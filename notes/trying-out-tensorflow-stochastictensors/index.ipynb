{
 "cells": [
  {
   "cell_type": "markdown",
   "metadata": {},
   "source": [
    "Write your post here."
   ]
  }
 ],
 "metadata": {
  "kernelspec": {
   "display_name": "Python 3",
   "env": {},
   "language": "python",
   "name": "python3"
  },
  "nikola": {
   "category": "",
   "date": "2017-08-14 16:06:05 UTC+10:00",
   "description": "",
   "link": "",
   "slug": "trying-out-tensorflow-stochastictensors",
   "tags": "",
   "title": "Trying out TensorFlow StochasticTensors",
   "type": "text"
  }
 },
 "nbformat": 4,
 "nbformat_minor": 2
}
