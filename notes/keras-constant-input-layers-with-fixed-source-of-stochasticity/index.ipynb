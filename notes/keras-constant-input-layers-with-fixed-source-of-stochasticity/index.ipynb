{
 "cells": [
  {
   "cell_type": "code",
   "execution_count": 1,
   "metadata": {},
   "outputs": [],
   "source": [
    "%matplotlib notebook"
   ]
  },
  {
   "cell_type": "code",
   "execution_count": 2,
   "metadata": {},
   "outputs": [
    {
     "name": "stderr",
     "output_type": "stream",
     "text": [
      "Using TensorFlow backend.\n"
     ]
    }
   ],
   "source": [
    "import numpy as np\n",
    "import keras.backend as K\n",
    "\n",
    "from keras.layers import Input, Activation, Add, GaussianNoise\n",
    "from keras.models import Sequential, Model"
   ]
  },
  {
   "cell_type": "markdown",
   "metadata": {},
   "source": [
    "## Rationale\n",
    "\n",
    "*TODO*"
   ]
  },
  {
   "cell_type": "code",
   "execution_count": 3,
   "metadata": {},
   "outputs": [],
   "source": [
    "random_tensor = K.random_normal(shape=(8, 3), seed=42)"
   ]
  },
  {
   "cell_type": "code",
   "execution_count": 4,
   "metadata": {},
   "outputs": [
    {
     "data": {
      "text/plain": [
       "array([[-0.28077507, -0.13775212, -0.67632961],\n",
       "       [ 0.02458041, -0.89358455, -0.82847327],\n",
       "       [ 1.2068944 ,  1.38101566, -1.45579767],\n",
       "       [-0.24621388, -1.36084056,  1.08796036],\n",
       "       [-0.35116589, -0.51385337,  3.41172075],\n",
       "       [ 0.05885483,  0.89180237, -0.7528832 ],\n",
       "       [-0.4335728 ,  2.45385313,  0.31374422],\n",
       "       [-0.52736205,  0.85249925, -0.5379132 ]], dtype=float32)"
      ]
     },
     "execution_count": 4,
     "metadata": {},
     "output_type": "execute_result"
    }
   ],
   "source": [
    "K.eval(random_tensor)"
   ]
  },
  {
   "cell_type": "code",
   "execution_count": 5,
   "metadata": {},
   "outputs": [
    {
     "data": {
      "text/plain": [
       "array([[ 0.36944136, -0.06497762,  1.05423534],\n",
       "       [ 0.92629176,  0.45142221,  0.6538806 ],\n",
       "       [ 0.00987345, -0.75727743,  1.19744813],\n",
       "       [ 0.10721783, -1.34733653,  0.69856125],\n",
       "       [ 1.34215105,  0.19264366, -0.02015864],\n",
       "       [ 0.61278504,  0.43748191,  1.21581125],\n",
       "       [ 0.42827308, -1.2276696 , -2.39826727],\n",
       "       [-0.21679108,  0.05826041,  0.10147382]], dtype=float32)"
      ]
     },
     "execution_count": 5,
     "metadata": {},
     "output_type": "execute_result"
    }
   ],
   "source": [
    "K.eval(random_tensor)"
   ]
  },
  {
   "cell_type": "code",
   "execution_count": 6,
   "metadata": {},
   "outputs": [],
   "source": [
    "x = Input(shape=(784,))\n",
    "eps = Input(tensor=K.random_normal(shape=(K.shape(x)[0], 3), seed=42))"
   ]
  },
  {
   "cell_type": "code",
   "execution_count": 7,
   "metadata": {},
   "outputs": [
    {
     "name": "stdout",
     "output_type": "stream",
     "text": [
      "Graph disconnected: cannot obtain value for tensor Tensor(\"random_normal_1:0\", shape=(?, 3), dtype=float32) at layer \"input_2\". The following previous layers were accessed without issue: []\n"
     ]
    }
   ],
   "source": [
    "try:\n",
    "    m = Model(x, eps)\n",
    "except RuntimeError as e:\n",
    "    print(e)"
   ]
  },
  {
   "cell_type": "code",
   "execution_count": 8,
   "metadata": {},
   "outputs": [],
   "source": [
    "m = Model([x, eps], eps)"
   ]
  },
  {
   "cell_type": "code",
   "execution_count": 9,
   "metadata": {},
   "outputs": [
    {
     "data": {
      "text/plain": [
       "array([[-0.28077507, -0.13775212, -0.67632961],\n",
       "       [ 0.02458041, -0.89358455, -0.82847327],\n",
       "       [ 1.2068944 ,  1.38101566, -1.45579767],\n",
       "       [-0.24621388, -1.36084056,  1.08796036],\n",
       "       [-0.35116589, -0.51385337,  3.41172075],\n",
       "       [ 0.05885483,  0.89180237, -0.7528832 ],\n",
       "       [-0.4335728 ,  2.45385313,  0.31374422],\n",
       "       [-0.52736205,  0.85249925, -0.5379132 ]], dtype=float32)"
      ]
     },
     "execution_count": 9,
     "metadata": {},
     "output_type": "execute_result"
    }
   ],
   "source": [
    "m.predict(np.ones((8, 784)))"
   ]
  },
  {
   "cell_type": "code",
   "execution_count": 10,
   "metadata": {},
   "outputs": [
    {
     "data": {
      "text/plain": [
       "array([[ 0.36944136, -0.06497762,  1.05423534],\n",
       "       [ 0.92629176,  0.45142221,  0.6538806 ],\n",
       "       [ 0.00987345, -0.75727743,  1.19744813],\n",
       "       [ 0.10721783, -1.34733653,  0.69856125],\n",
       "       [ 1.34215105,  0.19264366, -0.02015864],\n",
       "       [ 0.61278504,  0.43748191,  1.21581125],\n",
       "       [ 0.42827308, -1.2276696 , -2.39826727],\n",
       "       [-0.21679108,  0.05826041,  0.10147382]], dtype=float32)"
      ]
     },
     "execution_count": 10,
     "metadata": {},
     "output_type": "execute_result"
    }
   ],
   "source": [
    "m.predict([np.ones((8, 784))])"
   ]
  },
  {
   "cell_type": "code",
   "execution_count": 11,
   "metadata": {},
   "outputs": [
    {
     "name": "stdout",
     "output_type": "stream",
     "text": [
      "Error when checking model : the list of Numpy arrays that you are passing to your model is not the size the model expected. Expected to see 1 array(s), but instead got the following list of 2 arrays: [array([[ 1.,  1.,  1., ...,  1.,  1.,  1.],\n",
      "       [ 1.,  1.,  1., ...,  1.,  1.,  1.],\n",
      "       [ 1.,  1.,  1., ...,  1.,  1.,  1.],\n",
      "       ..., \n",
      "       [ 1.,  1.,  1., ...,  1.,  1.,  1.],\n",
      "       [ 1...\n"
     ]
    }
   ],
   "source": [
    "try:\n",
    "    m.predict([np.ones((8, 784)), np.ones((8, 3))])\n",
    "except ValueError as e:\n",
    "    print(e)"
   ]
  }
 ],
 "metadata": {
  "kernelspec": {
   "display_name": "Python 3",
   "language": "python",
   "name": "python3"
  },
  "language_info": {
   "codemirror_mode": {
    "name": "ipython",
    "version": 3
   },
   "file_extension": ".py",
   "mimetype": "text/x-python",
   "name": "python",
   "nbconvert_exporter": "python",
   "pygments_lexer": "ipython3",
   "version": "3.5.2"
  },
  "nikola": {
   "category": "",
   "date": "2017-11-17 01:57:49 UTC+11:00",
   "description": "",
   "link": "",
   "slug": "keras-constant-input-layers-with-fixed-source-of-stochasticity",
   "tags": "",
   "title": "Keras Constant Input Layers with Fixed Source of Stochasticity",
   "type": "text"
  }
 },
 "nbformat": 4,
 "nbformat_minor": 2
}
