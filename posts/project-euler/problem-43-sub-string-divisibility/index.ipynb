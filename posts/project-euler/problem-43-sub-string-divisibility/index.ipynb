{
 "cells": [
  {
   "cell_type": "markdown",
   "metadata": {
    "collapsed": false
   },
   "source": [
    "The number, 1406357289, is a 0 to 9 pandigital number because it is made up of each of the digits 0 to 9 in some order, but it also has a rather interesting sub-string divisibility property.\n",
    "\n",
    "Let $d_1$ be the 1st digit, $d_2$ be the 2nd digit, and so on. In this way, we note the following:\n",
    "\n",
    "$d_2d_3d_4=406$ is divisible by 2\n",
    "\n",
    "$d_3d_4d_5=063$ is divisible by 3\n",
    "\n",
    "$d_4d_5d_6=635$ is divisible by 5\n",
    "\n",
    "$d_5d_6d_7=357$ is divisible by 7\n",
    "\n",
    "$d_6d_7d_8=572$ is divisible by 11\n",
    "\n",
    "$d_7d_8d_9=728$ is divisible by 13\n",
    "\n",
    "$d_8d_9d_{10}=289$ is divisible by 17\n",
    "\n",
    "Find the sum of all 0 to 9 pandigital numbers with this property.\n",
    "\n",
    "<!-- TEASER_END -->"
   ]
  },
  {
   "cell_type": "markdown",
   "metadata": {},
   "source": [
    "### Version 1: Brute-Force"
   ]
  },
  {
   "cell_type": "code",
   "execution_count": 1,
   "metadata": {
    "collapsed": false
   },
   "outputs": [],
   "source": [
    "from itertools import permutations, islice, tee\n",
    "from six.moves import map, range, reduce, zip"
   ]
  },
  {
   "cell_type": "code",
   "execution_count": 2,
   "metadata": {
    "collapsed": false
   },
   "outputs": [
    {
     "data": {
      "text/plain": [
       "[(0, 1, 2, 3, 4, 5, 6, 7, 8, 9),\n",
       " (0, 1, 2, 3, 4, 5, 6, 7, 9, 8),\n",
       " (0, 1, 2, 3, 4, 5, 6, 8, 7, 9),\n",
       " (0, 1, 2, 3, 4, 5, 6, 8, 9, 7),\n",
       " (0, 1, 2, 3, 4, 5, 6, 9, 7, 8),\n",
       " (0, 1, 2, 3, 4, 5, 6, 9, 8, 7),\n",
       " (0, 1, 2, 3, 4, 5, 7, 6, 8, 9),\n",
       " (0, 1, 2, 3, 4, 5, 7, 6, 9, 8),\n",
       " (0, 1, 2, 3, 4, 5, 7, 8, 6, 9),\n",
       " (0, 1, 2, 3, 4, 5, 7, 8, 9, 6),\n",
       " (0, 1, 2, 3, 4, 5, 7, 9, 6, 8),\n",
       " (0, 1, 2, 3, 4, 5, 7, 9, 8, 6),\n",
       " (0, 1, 2, 3, 4, 5, 8, 6, 7, 9),\n",
       " (0, 1, 2, 3, 4, 5, 8, 6, 9, 7),\n",
       " (0, 1, 2, 3, 4, 5, 8, 7, 6, 9),\n",
       " (0, 1, 2, 3, 4, 5, 8, 7, 9, 6),\n",
       " (0, 1, 2, 3, 4, 5, 8, 9, 6, 7),\n",
       " (0, 1, 2, 3, 4, 5, 8, 9, 7, 6),\n",
       " (0, 1, 2, 3, 4, 5, 9, 6, 7, 8),\n",
       " (0, 1, 2, 3, 4, 5, 9, 6, 8, 7)]"
      ]
     },
     "execution_count": 2,
     "metadata": {},
     "output_type": "execute_result"
    }
   ],
   "source": [
    "list(islice(permutations(range(10)), 20))"
   ]
  },
  {
   "cell_type": "code",
   "execution_count": 3,
   "metadata": {
    "collapsed": true
   },
   "outputs": [],
   "source": [
    "def nwise(iterable, n=2):\n",
    "    iters = tee(iterable, n)\n",
    "    for i, it in enumerate(iters):\n",
    "        for _ in range(i):\n",
    "            next(it, None)\n",
    "    return zip(*iters)"
   ]
  },
  {
   "cell_type": "code",
   "execution_count": 4,
   "metadata": {
    "collapsed": true
   },
   "outputs": [],
   "source": [
    "iterable_to_int = lambda iterable: reduce(lambda x, y: 10*x+y,iterable)"
   ]
  },
  {
   "cell_type": "code",
   "execution_count": 5,
   "metadata": {
    "collapsed": false
   },
   "outputs": [],
   "source": [
    "def pandigital_substring_divisible(digits, substring_size, divisors):\n",
    "    \"\"\"\n",
    "    Given n unique digits and specified substring \n",
    "    size of m, a list of n-m+1 divisors are expected\n",
    "    \"\"\"\n",
    "    for num in permutations(digits):\n",
    "        subs = map(iterable_to_int, nwise(num, substring_size))\n",
    "        if any(map(lambda n, m: n%m, subs, divisors)):\n",
    "            continue\n",
    "        else:\n",
    "            yield num"
   ]
  },
  {
   "cell_type": "code",
   "execution_count": 6,
   "metadata": {
    "collapsed": false
   },
   "outputs": [
    {
     "data": {
      "text/plain": [
       "(1, 4, 0, 6, 3, 5, 7, 2, 8, 9)"
      ]
     },
     "execution_count": 6,
     "metadata": {},
     "output_type": "execute_result"
    }
   ],
   "source": [
    "next(pandigital_substring_divisible(range(10), 3, [1, 2, 3, 5, 7, 11, 13, 17]))"
   ]
  },
  {
   "cell_type": "code",
   "execution_count": 7,
   "metadata": {
    "collapsed": false
   },
   "outputs": [
    {
     "data": {
      "text/plain": [
       "[(1, 4, 0, 6, 3, 5, 7, 2, 8, 9),\n",
       " (1, 4, 3, 0, 9, 5, 2, 8, 6, 7),\n",
       " (1, 4, 6, 0, 3, 5, 7, 2, 8, 9),\n",
       " (4, 1, 0, 6, 3, 5, 7, 2, 8, 9),\n",
       " (4, 1, 3, 0, 9, 5, 2, 8, 6, 7),\n",
       " (4, 1, 6, 0, 3, 5, 7, 2, 8, 9)]"
      ]
     },
     "execution_count": 7,
     "metadata": {},
     "output_type": "execute_result"
    }
   ],
   "source": [
    "pandigital_nums = list(pandigital_substring_divisible(range(10), 3, [1, 2, 3, 5, 7, 11, 13, 17])); pandigital_nums"
   ]
  },
  {
   "cell_type": "code",
   "execution_count": 8,
   "metadata": {
    "collapsed": false
   },
   "outputs": [
    {
     "data": {
      "text/plain": [
       "16695334890"
      ]
     },
     "execution_count": 8,
     "metadata": {},
     "output_type": "execute_result"
    }
   ],
   "source": [
    "sum(map(iterable_to_int, pandigital_nums))"
   ]
  },
  {
   "cell_type": "markdown",
   "metadata": {},
   "source": [
    "### Version 2: Search space pruning with divisibility tests"
   ]
  },
  {
   "cell_type": "code",
   "execution_count": 9,
   "metadata": {
    "collapsed": true
   },
   "outputs": [],
   "source": [
    "# TODO"
   ]
  }
 ],
 "metadata": {
  "kernelspec": {
   "display_name": "Python 3",
   "language": "python",
   "name": "python3"
  },
  "language_info": {
   "codemirror_mode": {
    "name": "ipython",
    "version": 3
   },
   "file_extension": ".py",
   "mimetype": "text/x-python",
   "name": "python",
   "nbconvert_exporter": "python",
   "pygments_lexer": "ipython3",
   "version": "3.5.1"
  }
 },
 "nbformat": 4,
 "nbformat_minor": 0
}
