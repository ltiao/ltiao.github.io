{
 "cells": [
  {
   "cell_type": "markdown",
   "metadata": {
    "collapsed": false
   },
   "source": [
    "## Merging sorted lists"
   ]
  },
  {
   "cell_type": "code",
   "execution_count": 73,
   "metadata": {
    "collapsed": false
   },
   "outputs": [],
   "source": [
    "def _merge_re(xs, ys):\n",
    "    \n",
    "    if not xs:\n",
    "        return ys\n",
    "    if not ys:\n",
    "        return xs\n",
    "    \n",
    "    x, y = xs[0], ys[0]\n",
    "    \n",
    "    if x < y:\n",
    "        ret = [x]\n",
    "        xs  = xs[1:]\n",
    "    else:\n",
    "        ret = [y]\n",
    "        ys  = ys[1:]\n",
    "        \n",
    "    ret.extend(merge(xs, ys))\n",
    "    \n",
    "    return ret"
   ]
  },
  {
   "cell_type": "code",
   "execution_count": 74,
   "metadata": {
    "collapsed": false
   },
   "outputs": [],
   "source": [
    "def _merge_it(xs, ys):\n",
    "    \n",
    "    if not xs:\n",
    "        return ys\n",
    "    if not ys:\n",
    "        return xs\n",
    "    \n",
    "    i = j = 0\n",
    "    ret = []\n",
    "    \n",
    "    while i < len(xs) and j < len(ys):\n",
    "        if xs[i] < ys[j]:\n",
    "            ret.append(xs[i])\n",
    "            i += 1\n",
    "        else:\n",
    "            ret.append(ys[j])\n",
    "            j += 1\n",
    "            \n",
    "    ret.extend(xs[i:])\n",
    "    ret.extend(ys[j:])\n",
    "    \n",
    "    return ret"
   ]
  },
  {
   "cell_type": "code",
   "execution_count": 75,
   "metadata": {
    "collapsed": false
   },
   "outputs": [],
   "source": [
    "rand_sorted_list = lambda n, interval=10: [random.randint(interval*i, interval*(i+1)) for i in xrange(n)]"
   ]
  },
  {
   "cell_type": "code",
   "execution_count": 79,
   "metadata": {
    "collapsed": false
   },
   "outputs": [
    {
     "data": {
      "text/plain": [
       "[8, 20, 21, 40, 45, 60, 68, 71, 85, 98, 104, 120, 128, 137, 142]"
      ]
     },
     "execution_count": 79,
     "metadata": {},
     "output_type": "execute_result"
    }
   ],
   "source": [
    "a = rand_sorted_list(15); a"
   ]
  },
  {
   "cell_type": "code",
   "execution_count": 80,
   "metadata": {
    "collapsed": false
   },
   "outputs": [
    {
     "data": {
      "text/plain": [
       "[4, 16, 28, 39, 46, 59, 70, 72, 84, 100, 104, 111]"
      ]
     },
     "execution_count": 80,
     "metadata": {},
     "output_type": "execute_result"
    }
   ],
   "source": [
    "b = rand_sorted_list(12); b"
   ]
  },
  {
   "cell_type": "code",
   "execution_count": 81,
   "metadata": {
    "collapsed": false
   },
   "outputs": [
    {
     "data": {
      "text/plain": [
       "[4,\n",
       " 8,\n",
       " 16,\n",
       " 20,\n",
       " 21,\n",
       " 28,\n",
       " 39,\n",
       " 40,\n",
       " 45,\n",
       " 46,\n",
       " 59,\n",
       " 60,\n",
       " 68,\n",
       " 70,\n",
       " 71,\n",
       " 72,\n",
       " 84,\n",
       " 85,\n",
       " 98,\n",
       " 100,\n",
       " 104,\n",
       " 104,\n",
       " 111,\n",
       " 120,\n",
       " 128,\n",
       " 137,\n",
       " 142]"
      ]
     },
     "execution_count": 81,
     "metadata": {},
     "output_type": "execute_result"
    }
   ],
   "source": [
    "_merge_it(a, b)"
   ]
  },
  {
   "cell_type": "code",
   "execution_count": 83,
   "metadata": {
    "collapsed": false
   },
   "outputs": [
    {
     "data": {
      "text/plain": [
       "True"
      ]
     },
     "execution_count": 83,
     "metadata": {},
     "output_type": "execute_result"
    }
   ],
   "source": [
    "_merge_it(a, b) == _merge_re(a, b)"
   ]
  },
  {
   "cell_type": "code",
   "execution_count": 84,
   "metadata": {
    "collapsed": true
   },
   "outputs": [],
   "source": [
    "merge_all = lambda *xss: reduce(_merge_it, xss)"
   ]
  },
  {
   "cell_type": "code",
   "execution_count": 89,
   "metadata": {
    "collapsed": false
   },
   "outputs": [
    {
     "data": {
      "text/plain": [
       "[1,\n",
       " 5,\n",
       " 6,\n",
       " 7,\n",
       " 10,\n",
       " 10,\n",
       " 10,\n",
       " 12,\n",
       " 16,\n",
       " 18,\n",
       " 22,\n",
       " 22,\n",
       " 22,\n",
       " 29,\n",
       " 30,\n",
       " 32,\n",
       " 34,\n",
       " 38,\n",
       " 39,\n",
       " 40,\n",
       " 40,\n",
       " 42,\n",
       " 45,\n",
       " 45,\n",
       " 49,\n",
       " 51,\n",
       " 55,\n",
       " 57,\n",
       " 59,\n",
       " 59,\n",
       " 62,\n",
       " 63,\n",
       " 65,\n",
       " 66,\n",
       " 70,\n",
       " 71,\n",
       " 75,\n",
       " 76,\n",
       " 78,\n",
       " 79,\n",
       " 86,\n",
       " 86,\n",
       " 87,\n",
       " 87,\n",
       " 88,\n",
       " 91,\n",
       " 97,\n",
       " 97,\n",
       " 99,\n",
       " 100]"
      ]
     },
     "execution_count": 89,
     "metadata": {},
     "output_type": "execute_result"
    }
   ],
   "source": [
    "merge_all(*[rand_sorted_list(10) for _ in xrange(5)])"
   ]
  },
  {
   "cell_type": "code",
   "execution_count": null,
   "metadata": {
    "collapsed": true
   },
   "outputs": [],
   "source": []
  }
 ],
 "metadata": {
  "kernelspec": {
   "display_name": "Python 2",
   "language": "python",
   "name": "python2"
  },
  "language_info": {
   "codemirror_mode": {
    "name": "ipython",
    "version": 2
   },
   "file_extension": ".py",
   "mimetype": "text/x-python",
   "name": "python",
   "nbconvert_exporter": "python",
   "pygments_lexer": "ipython2",
   "version": "2.7.8"
  }
 },
 "nbformat": 4,
 "nbformat_minor": 0
}
