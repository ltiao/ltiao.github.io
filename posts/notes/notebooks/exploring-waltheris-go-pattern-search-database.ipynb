{
 "cells": [
  {
   "cell_type": "markdown",
   "metadata": {
    "collapsed": false
   },
   "source": [
    "Go to http://ps.waltheri.net/database.html, right-click *Inspect Elements > Network*. Select list view on the site. Should see `ajax_browser.php` under with type `xhr`. Just going to http://ps.waltheri.net/ajax_browser.php will show\n",
    "```\n",
    "{\"error\":\"No action.\"}\n",
    "```\n",
    "So we need to view `Headers` and inspect the form data. View source shows the following query string\n",
    "```\n",
    "action=getGamesAsJSON&args%5Bfrom%5D=6&args%5Bcount%5D=54\n",
    "```"
   ]
  },
  {
   "cell_type": "code",
   "execution_count": 25,
   "metadata": {
    "collapsed": true
   },
   "outputs": [],
   "source": [
    "import requests\n",
    "\n",
    "from operator import itemgetter"
   ]
  },
  {
   "cell_type": "code",
   "execution_count": 26,
   "metadata": {
    "collapsed": true
   },
   "outputs": [],
   "source": [
    "r = requests.post('http://ps.waltheri.net/ajax_browser.php', data={'action': 'getGamesAsJSON'})"
   ]
  },
  {
   "cell_type": "code",
   "execution_count": 27,
   "metadata": {
    "collapsed": false
   },
   "outputs": [
    {
     "data": {
      "text/plain": [
       "[u'69197',\n",
       " u'69196',\n",
       " u'69198',\n",
       " u'69199',\n",
       " u'69200',\n",
       " u'69201',\n",
       " u'69202',\n",
       " u'69203',\n",
       " u'69204',\n",
       " u'69205']"
      ]
     },
     "execution_count": 27,
     "metadata": {},
     "output_type": "execute_result"
    }
   ],
   "source": [
    "map(itemgetter(u'id'), r.json().get('games'))"
   ]
  },
  {
   "cell_type": "code",
   "execution_count": 28,
   "metadata": {
    "collapsed": true
   },
   "outputs": [],
   "source": [
    "r = requests.post('http://ps.waltheri.net/ajax_browser.php', data={'action': 'getGamesAsJSON', 'args[from]': 6, 'args[count]': 54})"
   ]
  },
  {
   "cell_type": "code",
   "execution_count": 29,
   "metadata": {
    "collapsed": false
   },
   "outputs": [
    {
     "data": {
      "text/plain": [
       "[u'69202',\n",
       " u'69203',\n",
       " u'69204',\n",
       " u'69205',\n",
       " u'69206',\n",
       " u'69207',\n",
       " u'69208',\n",
       " u'69209',\n",
       " u'69210',\n",
       " u'69211',\n",
       " u'69212',\n",
       " u'69213',\n",
       " u'69214',\n",
       " u'69215',\n",
       " u'69216',\n",
       " u'69217',\n",
       " u'69218',\n",
       " u'69219',\n",
       " u'69220',\n",
       " u'69221',\n",
       " u'69222',\n",
       " u'69223',\n",
       " u'69224',\n",
       " u'69225',\n",
       " u'69226',\n",
       " u'69227',\n",
       " u'69228',\n",
       " u'69229',\n",
       " u'69230',\n",
       " u'69231',\n",
       " u'69232',\n",
       " u'69233',\n",
       " u'69234',\n",
       " u'69235',\n",
       " u'69236',\n",
       " u'69237',\n",
       " u'69238',\n",
       " u'69239',\n",
       " u'69240',\n",
       " u'69241',\n",
       " u'69242',\n",
       " u'69243',\n",
       " u'69244',\n",
       " u'69245',\n",
       " u'69246',\n",
       " u'69247',\n",
       " u'69248',\n",
       " u'69249',\n",
       " u'69250',\n",
       " u'69251',\n",
       " u'69252',\n",
       " u'69253',\n",
       " u'69254',\n",
       " u'69255']"
      ]
     },
     "execution_count": 29,
     "metadata": {},
     "output_type": "execute_result"
    }
   ],
   "source": [
    "map(itemgetter(u'id'), r.json().get('games'))"
   ]
  },
  {
   "cell_type": "code",
   "execution_count": 30,
   "metadata": {
    "collapsed": false
   },
   "outputs": [
    {
     "data": {
      "text/plain": [
       "54"
      ]
     },
     "execution_count": 30,
     "metadata": {},
     "output_type": "execute_result"
    }
   ],
   "source": [
    "len(r.json().get('games'))"
   ]
  },
  {
   "cell_type": "code",
   "execution_count": 31,
   "metadata": {
    "collapsed": true
   },
   "outputs": [],
   "source": [
    "r = requests.post('http://ps.waltheri.net/ajax_browser.php', data={'action': 'getGamesAsJSON', 'args[count]': 54})"
   ]
  },
  {
   "cell_type": "code",
   "execution_count": 32,
   "metadata": {
    "collapsed": false
   },
   "outputs": [
    {
     "data": {
      "text/plain": [
       "[u'69197',\n",
       " u'69196',\n",
       " u'69198',\n",
       " u'69199',\n",
       " u'69200',\n",
       " u'69201',\n",
       " u'69202',\n",
       " u'69203',\n",
       " u'69204',\n",
       " u'69205',\n",
       " u'69206',\n",
       " u'69207',\n",
       " u'69208',\n",
       " u'69209',\n",
       " u'69210',\n",
       " u'69211',\n",
       " u'69212',\n",
       " u'69213',\n",
       " u'69214',\n",
       " u'69215',\n",
       " u'69216',\n",
       " u'69217',\n",
       " u'69218',\n",
       " u'69219',\n",
       " u'69220',\n",
       " u'69221',\n",
       " u'69222',\n",
       " u'69223',\n",
       " u'69224',\n",
       " u'69225',\n",
       " u'69226',\n",
       " u'69227',\n",
       " u'69228',\n",
       " u'69229',\n",
       " u'69230',\n",
       " u'69231',\n",
       " u'69232',\n",
       " u'69233',\n",
       " u'69234',\n",
       " u'69235',\n",
       " u'69236',\n",
       " u'69237',\n",
       " u'69238',\n",
       " u'69239',\n",
       " u'69240',\n",
       " u'69241',\n",
       " u'69242',\n",
       " u'69243',\n",
       " u'69244',\n",
       " u'69245',\n",
       " u'69246',\n",
       " u'69247',\n",
       " u'69248',\n",
       " u'69249']"
      ]
     },
     "execution_count": 32,
     "metadata": {},
     "output_type": "execute_result"
    }
   ],
   "source": [
    "map(itemgetter(u'id'), r.json().get('games'))"
   ]
  },
  {
   "cell_type": "code",
   "execution_count": 33,
   "metadata": {
    "collapsed": true
   },
   "outputs": [],
   "source": [
    "r = requests.post('http://ps.waltheri.net/ajax_browser.php', data={'action': 'getGamesAsJSON'})"
   ]
  },
  {
   "cell_type": "code",
   "execution_count": 34,
   "metadata": {
    "collapsed": false
   },
   "outputs": [
    {
     "data": {
      "text/plain": [
       "10"
      ]
     },
     "execution_count": 34,
     "metadata": {},
     "output_type": "execute_result"
    }
   ],
   "source": [
    "len(r.json().get('games'))"
   ]
  },
  {
   "cell_type": "code",
   "execution_count": 35,
   "metadata": {
    "collapsed": true
   },
   "outputs": [],
   "source": [
    "r = requests.post('http://ps.waltheri.net/ajax_browser.php', data={'action': 'getGamesAsJSON', 'args[count]': 1000})"
   ]
  },
  {
   "cell_type": "code",
   "execution_count": 36,
   "metadata": {
    "collapsed": false
   },
   "outputs": [
    {
     "data": {
      "text/plain": [
       "1000"
      ]
     },
     "execution_count": 36,
     "metadata": {},
     "output_type": "execute_result"
    }
   ],
   "source": [
    "len(r.json().get('games'))"
   ]
  },
  {
   "cell_type": "code",
   "execution_count": 37,
   "metadata": {
    "collapsed": true
   },
   "outputs": [],
   "source": [
    "r = requests.post('http://ps.waltheri.net/ajax_browser.php', data={'action': 'getGamesAsJSON'})"
   ]
  },
  {
   "cell_type": "code",
   "execution_count": 43,
   "metadata": {
    "collapsed": false
   },
   "outputs": [],
   "source": [
    "game = r.json().get(u'games')[0]"
   ]
  },
  {
   "cell_type": "code",
   "execution_count": 44,
   "metadata": {
    "collapsed": false
   },
   "outputs": [
    {
     "data": {
      "text/plain": [
       "[u'info', u'game', u'id', u'size']"
      ]
     },
     "execution_count": 44,
     "metadata": {},
     "output_type": "execute_result"
    }
   ],
   "source": [
    "game.keys()"
   ]
  },
  {
   "cell_type": "code",
   "execution_count": 45,
   "metadata": {
    "collapsed": false
   },
   "outputs": [
    {
     "data": {
      "text/plain": [
       "{u'DT': u'2014-6-17',\n",
       " u'EV': u'',\n",
       " u'HA': u'0',\n",
       " u'KM': u'7.5',\n",
       " u'RE': u'W+R',\n",
       " u'black': {u'name': u'Zheng Yan', u'rank': u'2p'},\n",
       " u'white': {u'name': u'Lu Jia', u'rank': u'2p'}}"
      ]
     },
     "execution_count": 45,
     "metadata": {},
     "output_type": "execute_result"
    }
   ],
   "source": [
    "game.get(u'info')"
   ]
  },
  {
   "cell_type": "code",
   "execution_count": 46,
   "metadata": {
    "collapsed": false
   },
   "outputs": [
    {
     "data": {
      "text/plain": [
       "19"
      ]
     },
     "execution_count": 46,
     "metadata": {},
     "output_type": "execute_result"
    }
   ],
   "source": [
    "game.get(u'size')"
   ]
  },
  {
   "cell_type": "code",
   "execution_count": 48,
   "metadata": {
    "collapsed": false
   },
   "outputs": [
    {
     "data": {
      "text/plain": [
       "570"
      ]
     },
     "execution_count": 48,
     "metadata": {},
     "output_type": "execute_result"
    }
   ],
   "source": [
    "len(game.get(u'game'))"
   ]
  },
  {
   "cell_type": "code",
   "execution_count": 49,
   "metadata": {
    "collapsed": true
   },
   "outputs": [],
   "source": [
    "from collections import Counter"
   ]
  },
  {
   "cell_type": "code",
   "execution_count": 50,
   "metadata": {
    "collapsed": false
   },
   "outputs": [
    {
     "data": {
      "text/plain": [
       "Counter({0: 2,\n",
       "         1: 114,\n",
       "         2: 27,\n",
       "         3: 121,\n",
       "         4: 25,\n",
       "         5: 24,\n",
       "         6: 19,\n",
       "         7: 23,\n",
       "         8: 19,\n",
       "         9: 20,\n",
       "         10: 16,\n",
       "         11: 22,\n",
       "         12: 23,\n",
       "         13: 21,\n",
       "         14: 20,\n",
       "         15: 26,\n",
       "         16: 27,\n",
       "         17: 19,\n",
       "         18: 2})"
      ]
     },
     "execution_count": 50,
     "metadata": {},
     "output_type": "execute_result"
    }
   ],
   "source": [
    "Counter(game.get(u'game'))"
   ]
  },
  {
   "cell_type": "code",
   "execution_count": 51,
   "metadata": {
    "collapsed": false
   },
   "outputs": [
    {
     "data": {
      "text/plain": [
       "[3,\n",
       " 15,\n",
       " 3,\n",
       " 1,\n",
       " 3,\n",
       " 15,\n",
       " 3,\n",
       " 16,\n",
       " 15,\n",
       " 1,\n",
       " 3,\n",
       " 3,\n",
       " 3,\n",
       " 5,\n",
       " 2,\n",
       " 1,\n",
       " 2,\n",
       " 5,\n",
       " 3,\n",
       " 14,\n",
       " 16,\n",
       " 1,\n",
       " 16,\n",
       " 5,\n",
       " 3,\n",
       " 13,\n",
       " 2,\n",
       " 1,\n",
       " 17,\n",
       " 3,\n",
       " 3,\n",
       " 16,\n",
       " 7,\n",
       " 1,\n",
       " 16,\n",
       " 2,\n",
       " 3,\n",
       " 16,\n",
       " 4,\n",
       " 1,\n",
       " 17,\n",
       " 4,\n",
       " 3,\n",
       " 15,\n",
       " 5,\n",
       " 1,\n",
       " 15,\n",
       " 6,\n",
       " 3,\n",
       " 16,\n",
       " 6,\n",
       " 1,\n",
       " 17,\n",
       " 5,\n",
       " 3,\n",
       " 14,\n",
       " 6,\n",
       " 1,\n",
       " 9,\n",
       " 15,\n",
       " 3,\n",
       " 15,\n",
       " 9,\n",
       " 1,\n",
       " 7,\n",
       " 2,\n",
       " 3,\n",
       " 2,\n",
       " 13,\n",
       " 1,\n",
       " 5,\n",
       " 16,\n",
       " 3,\n",
       " 1,\n",
       " 15,\n",
       " 1,\n",
       " 2,\n",
       " 11,\n",
       " 3,\n",
       " 3,\n",
       " 11,\n",
       " 1,\n",
       " 3,\n",
       " 10,\n",
       " 3,\n",
       " 3,\n",
       " 12,\n",
       " 1,\n",
       " 2,\n",
       " 9,\n",
       " 3,\n",
       " 2,\n",
       " 16,\n",
       " 1,\n",
       " 2,\n",
       " 12,\n",
       " 3,\n",
       " 3,\n",
       " 13,\n",
       " 1,\n",
       " 3,\n",
       " 16,\n",
       " 3,\n",
       " 1,\n",
       " 13,\n",
       " 1,\n",
       " 12,\n",
       " 16,\n",
       " 3,\n",
       " 3,\n",
       " 2,\n",
       " 1,\n",
       " 2,\n",
       " 2,\n",
       " 3,\n",
       " 2,\n",
       " 1,\n",
       " 1,\n",
       " 4,\n",
       " 2,\n",
       " 3,\n",
       " 3,\n",
       " 1,\n",
       " 1,\n",
       " 4,\n",
       " 3,\n",
       " 3,\n",
       " 2,\n",
       " 3,\n",
       " 1,\n",
       " 1,\n",
       " 2,\n",
       " 3,\n",
       " 1,\n",
       " 3,\n",
       " 1,\n",
       " 1,\n",
       " 1,\n",
       " 3,\n",
       " 1,\n",
       " 0,\n",
       " 1,\n",
       " 4,\n",
       " 1,\n",
       " 3,\n",
       " 0,\n",
       " 2,\n",
       " 1,\n",
       " 16,\n",
       " 14,\n",
       " 3,\n",
       " 15,\n",
       " 15,\n",
       " 1,\n",
       " 17,\n",
       " 15,\n",
       " 3,\n",
       " 17,\n",
       " 16,\n",
       " 1,\n",
       " 16,\n",
       " 11,\n",
       " 3,\n",
       " 15,\n",
       " 13,\n",
       " 1,\n",
       " 14,\n",
       " 11,\n",
       " 3,\n",
       " 13,\n",
       " 12,\n",
       " 1,\n",
       " 17,\n",
       " 9,\n",
       " 3,\n",
       " 16,\n",
       " 12,\n",
       " 1,\n",
       " 17,\n",
       " 12,\n",
       " 3,\n",
       " 17,\n",
       " 13,\n",
       " 1,\n",
       " 17,\n",
       " 11,\n",
       " 3,\n",
       " 15,\n",
       " 12,\n",
       " 1,\n",
       " 15,\n",
       " 7,\n",
       " 3,\n",
       " 16,\n",
       " 8,\n",
       " 1,\n",
       " 14,\n",
       " 5,\n",
       " 3,\n",
       " 15,\n",
       " 4,\n",
       " 1,\n",
       " 14,\n",
       " 7,\n",
       " 3,\n",
       " 13,\n",
       " 6,\n",
       " 1,\n",
       " 13,\n",
       " 7,\n",
       " 3,\n",
       " 14,\n",
       " 10,\n",
       " 1,\n",
       " 13,\n",
       " 4,\n",
       " 3,\n",
       " 12,\n",
       " 6,\n",
       " 1,\n",
       " 12,\n",
       " 7,\n",
       " 3,\n",
       " 11,\n",
       " 6,\n",
       " 1,\n",
       " 11,\n",
       " 4,\n",
       " 3,\n",
       " 11,\n",
       " 7,\n",
       " 1,\n",
       " 13,\n",
       " 10,\n",
       " 3,\n",
       " 13,\n",
       " 9,\n",
       " 1,\n",
       " 12,\n",
       " 9,\n",
       " 3,\n",
       " 11,\n",
       " 8,\n",
       " 1,\n",
       " 15,\n",
       " 10,\n",
       " 3,\n",
       " 14,\n",
       " 9,\n",
       " 1,\n",
       " 12,\n",
       " 8,\n",
       " 3,\n",
       " 11,\n",
       " 11,\n",
       " 1,\n",
       " 13,\n",
       " 11,\n",
       " 3,\n",
       " 15,\n",
       " 11,\n",
       " 1,\n",
       " 12,\n",
       " 10,\n",
       " 3,\n",
       " 16,\n",
       " 10,\n",
       " 1,\n",
       " 15,\n",
       " 2,\n",
       " 3,\n",
       " 14,\n",
       " 3,\n",
       " 1,\n",
       " 12,\n",
       " 3,\n",
       " 3,\n",
       " 11,\n",
       " 1,\n",
       " 1,\n",
       " 10,\n",
       " 9,\n",
       " 3,\n",
       " 13,\n",
       " 3,\n",
       " 1,\n",
       " 12,\n",
       " 4,\n",
       " 3,\n",
       " 10,\n",
       " 3,\n",
       " 1,\n",
       " 10,\n",
       " 4,\n",
       " 3,\n",
       " 8,\n",
       " 3,\n",
       " 1,\n",
       " 9,\n",
       " 5,\n",
       " 3,\n",
       " 8,\n",
       " 2,\n",
       " 1,\n",
       " 12,\n",
       " 2,\n",
       " 3,\n",
       " 12,\n",
       " 1,\n",
       " 1,\n",
       " 14,\n",
       " 1,\n",
       " 3,\n",
       " 13,\n",
       " 1,\n",
       " 1,\n",
       " 10,\n",
       " 10,\n",
       " 3,\n",
       " 8,\n",
       " 5,\n",
       " 1,\n",
       " 8,\n",
       " 6,\n",
       " 3,\n",
       " 7,\n",
       " 5,\n",
       " 1,\n",
       " 9,\n",
       " 7,\n",
       " 3,\n",
       " 9,\n",
       " 4,\n",
       " 1,\n",
       " 10,\n",
       " 5,\n",
       " 3,\n",
       " 3,\n",
       " 5,\n",
       " 1,\n",
       " 3,\n",
       " 4,\n",
       " 3,\n",
       " 3,\n",
       " 8,\n",
       " 1,\n",
       " 4,\n",
       " 5,\n",
       " 3,\n",
       " 3,\n",
       " 6,\n",
       " 1,\n",
       " 4,\n",
       " 6,\n",
       " 3,\n",
       " 3,\n",
       " 7,\n",
       " 1,\n",
       " 4,\n",
       " 10,\n",
       " 3,\n",
       " 2,\n",
       " 4,\n",
       " 1,\n",
       " 4,\n",
       " 7,\n",
       " 3,\n",
       " 4,\n",
       " 8,\n",
       " 1,\n",
       " 5,\n",
       " 8,\n",
       " 3,\n",
       " 5,\n",
       " 4,\n",
       " 1,\n",
       " 4,\n",
       " 4,\n",
       " 3,\n",
       " 6,\n",
       " 7,\n",
       " 1,\n",
       " 1,\n",
       " 7,\n",
       " 3,\n",
       " 1,\n",
       " 5,\n",
       " 1,\n",
       " 6,\n",
       " 6,\n",
       " 3,\n",
       " 7,\n",
       " 6,\n",
       " 1,\n",
       " 7,\n",
       " 7,\n",
       " 3,\n",
       " 7,\n",
       " 8,\n",
       " 1,\n",
       " 8,\n",
       " 7,\n",
       " 3,\n",
       " 5,\n",
       " 9,\n",
       " 1,\n",
       " 6,\n",
       " 9,\n",
       " 3,\n",
       " 8,\n",
       " 15,\n",
       " 1,\n",
       " 2,\n",
       " 17,\n",
       " 3,\n",
       " 1,\n",
       " 17,\n",
       " 1,\n",
       " 2,\n",
       " 15,\n",
       " 3,\n",
       " 1,\n",
       " 16,\n",
       " 1,\n",
       " 8,\n",
       " 16,\n",
       " 3,\n",
       " 7,\n",
       " 16,\n",
       " 1,\n",
       " 7,\n",
       " 17,\n",
       " 3,\n",
       " 8,\n",
       " 14,\n",
       " 1,\n",
       " 4,\n",
       " 9,\n",
       " 3,\n",
       " 8,\n",
       " 17,\n",
       " 1,\n",
       " 9,\n",
       " 16,\n",
       " 3,\n",
       " 6,\n",
       " 17,\n",
       " 1,\n",
       " 7,\n",
       " 15,\n",
       " 3,\n",
       " 6,\n",
       " 16,\n",
       " 1,\n",
       " 6,\n",
       " 15,\n",
       " 3,\n",
       " 5,\n",
       " 17,\n",
       " 1,\n",
       " 5,\n",
       " 14,\n",
       " 3,\n",
       " 4,\n",
       " 16,\n",
       " 1,\n",
       " 4,\n",
       " 15,\n",
       " 3,\n",
       " 5,\n",
       " 15,\n",
       " 1,\n",
       " 10,\n",
       " 2,\n",
       " 3,\n",
       " 11,\n",
       " 2,\n",
       " 1,\n",
       " 5,\n",
       " 16,\n",
       " 3,\n",
       " 4,\n",
       " 17,\n",
       " 1,\n",
       " 5,\n",
       " 12,\n",
       " 3,\n",
       " 5,\n",
       " 15,\n",
       " 1,\n",
       " 6,\n",
       " 14,\n",
       " 3,\n",
       " 9,\n",
       " 17,\n",
       " 1,\n",
       " 11,\n",
       " 15,\n",
       " 3,\n",
       " 10,\n",
       " 13,\n",
       " 1,\n",
       " 11,\n",
       " 13,\n",
       " 3,\n",
       " 11,\n",
       " 12,\n",
       " 1,\n",
       " 9,\n",
       " 13,\n",
       " 3,\n",
       " 10,\n",
       " 14,\n",
       " 1,\n",
       " 9,\n",
       " 14,\n",
       " 3,\n",
       " 9,\n",
       " 12,\n",
       " 1,\n",
       " 8,\n",
       " 12,\n",
       " 3,\n",
       " 9,\n",
       " 11,\n",
       " 1,\n",
       " 14,\n",
       " 12,\n",
       " 3,\n",
       " 12,\n",
       " 14,\n",
       " 1,\n",
       " 17,\n",
       " 14,\n",
       " 3,\n",
       " 16,\n",
       " 13,\n",
       " 1,\n",
       " 3,\n",
       " 17,\n",
       " 3,\n",
       " 2,\n",
       " 7,\n",
       " 1,\n",
       " 5,\n",
       " 16,\n",
       " 3,\n",
       " 1,\n",
       " 18,\n",
       " 1,\n",
       " 11,\n",
       " 14,\n",
       " 3,\n",
       " 12,\n",
       " 13,\n",
       " 1,\n",
       " 11,\n",
       " 16,\n",
       " 3,\n",
       " 14,\n",
       " 13,\n",
       " 1,\n",
       " 7,\n",
       " 18,\n",
       " 3,\n",
       " 8,\n",
       " 11,\n",
       " 1,\n",
       " 6,\n",
       " 8]"
      ]
     },
     "execution_count": 51,
     "metadata": {},
     "output_type": "execute_result"
    }
   ],
   "source": [
    "game.get(u'game')"
   ]
  },
  {
   "cell_type": "code",
   "execution_count": null,
   "metadata": {
    "collapsed": true
   },
   "outputs": [],
   "source": []
  }
 ],
 "metadata": {
  "kernelspec": {
   "display_name": "Python 2",
   "language": "python",
   "name": "python2"
  },
  "language_info": {
   "codemirror_mode": {
    "name": "ipython",
    "version": 2
   },
   "file_extension": ".py",
   "mimetype": "text/x-python",
   "name": "python",
   "nbconvert_exporter": "python",
   "pygments_lexer": "ipython2",
   "version": "2.7.10"
  }
 },
 "nbformat": 4,
 "nbformat_minor": 0
}
