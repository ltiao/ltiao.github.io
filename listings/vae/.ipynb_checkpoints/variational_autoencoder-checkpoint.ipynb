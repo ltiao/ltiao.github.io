{
 "cells": [
  {
   "cell_type": "markdown",
   "metadata": {},
   "source": [
    "#### Preamble"
   ]
  },
  {
   "cell_type": "code",
   "execution_count": 2,
   "metadata": {},
   "outputs": [],
   "source": [
    "%matplotlib notebook"
   ]
  },
  {
   "cell_type": "code",
   "execution_count": 52,
   "metadata": {},
   "outputs": [],
   "source": [
    "import numpy as np\n",
    "import matplotlib.pyplot as plt\n",
    "from scipy.stats import norm\n",
    "\n",
    "from keras import backend as K\n",
    "\n",
    "from keras.layers import (Input, InputLayer, Dense, Lambda, Layer, \n",
    "                          Add, Multiply)\n",
    "from keras.models import Model, Sequential\n",
    "from keras.datasets import mnist\n",
    "\n",
    "\n",
    "from keras.utils.vis_utils import model_to_dot, plot_model\n",
    "from IPython.display import SVG"
   ]
  },
  {
   "cell_type": "markdown",
   "metadata": {},
   "source": [
    "#### Notebook Configuration "
   ]
  },
  {
   "cell_type": "code",
   "execution_count": 4,
   "metadata": {},
   "outputs": [],
   "source": [
    "np.set_printoptions(precision=2,\n",
    "                    edgeitems=3,\n",
    "                    linewidth=80,\n",
    "                    suppress=True)"
   ]
  },
  {
   "cell_type": "code",
   "execution_count": 7,
   "metadata": {
    "scrolled": false
   },
   "outputs": [
    {
     "data": {
      "text/plain": [
       "'TensorFlow version: 1.4.0'"
      ]
     },
     "execution_count": 7,
     "metadata": {},
     "output_type": "execute_result"
    }
   ],
   "source": [
    "'TensorFlow version: ' + K.tf.__version__"
   ]
  },
  {
   "cell_type": "markdown",
   "metadata": {},
   "source": [
    "##### Constant definitions"
   ]
  },
  {
   "cell_type": "code",
   "execution_count": 8,
   "metadata": {},
   "outputs": [],
   "source": [
    "batch_size = 100\n",
    "original_dim = 784\n",
    "latent_dim = 2\n",
    "intermediate_dim = 256\n",
    "epochs = 50\n",
    "epsilon_std = 1.0"
   ]
  },
  {
   "cell_type": "markdown",
   "metadata": {},
   "source": [
    "## Variational Autoencoder\n",
    "\n",
    "### Model definition\n",
    "\n",
    "#### Encoder"
   ]
  },
  {
   "cell_type": "markdown",
   "metadata": {},
   "source": [
    "##### Figure 1: Reparameterization using Keras Layers"
   ]
  },
  {
   "cell_type": "code",
   "execution_count": 15,
   "metadata": {},
   "outputs": [],
   "source": [
    "z_mu = Input(shape=(latent_dim,), name='mu')\n",
    "z_sigma = Input(shape=(latent_dim,), name='sigma')\n",
    "eps = Input(shape=(latent_dim,), name='eps')\n",
    "z_eps = Multiply(name='z_eps')([z_sigma, eps])\n",
    "z = Add(name='z')([z_mu, z_eps])"
   ]
  },
  {
   "cell_type": "code",
   "execution_count": 16,
   "metadata": {},
   "outputs": [],
   "source": [
    "m = Model(inputs=[eps, z_mu, z_sigma], outputs=z)"
   ]
  },
  {
   "cell_type": "code",
   "execution_count": 17,
   "metadata": {
    "scrolled": true
   },
   "outputs": [
    {
     "data": {
      "image/svg+xml": [
       "<svg height=\"191pt\" viewBox=\"0.00 0.00 370.50 191.00\" width=\"371pt\" xmlns=\"http://www.w3.org/2000/svg\" xmlns:xlink=\"http://www.w3.org/1999/xlink\">\n",
       "<g class=\"graph\" id=\"graph0\" transform=\"scale(1 1) rotate(0) translate(4 187)\">\n",
       "<title>G</title>\n",
       "<polygon fill=\"#ffffff\" points=\"-4,4 -4,-187 366.5,-187 366.5,4 -4,4\" stroke=\"transparent\"/>\n",
       "<!-- 140175856602192 -->\n",
       "<g class=\"node\" id=\"node1\">\n",
       "<title>140175856602192</title>\n",
       "<polygon fill=\"none\" points=\"0,-146.5 0,-182.5 149,-182.5 149,-146.5 0,-146.5\" stroke=\"#000000\"/>\n",
       "<text fill=\"#000000\" font-family=\"Times,serif\" font-size=\"14.00\" text-anchor=\"middle\" x=\"74.5\" y=\"-160.8\">sigma: InputLayer</text>\n",
       "</g>\n",
       "<!-- 140175856602360 -->\n",
       "<g class=\"node\" id=\"node4\">\n",
       "<title>140175856602360</title>\n",
       "<polygon fill=\"none\" points=\"91,-73.5 91,-109.5 216,-109.5 216,-73.5 91,-73.5\" stroke=\"#000000\"/>\n",
       "<text fill=\"#000000\" font-family=\"Times,serif\" font-size=\"14.00\" text-anchor=\"middle\" x=\"153.5\" y=\"-87.8\">z_eps: Multiply</text>\n",
       "</g>\n",
       "<!-- 140175856602192&#45;&gt;140175856602360 -->\n",
       "<g class=\"edge\" id=\"edge1\">\n",
       "<title>140175856602192-&gt;140175856602360</title>\n",
       "<path d=\"M94.0281,-146.4551C103.8083,-137.4177 115.8052,-126.3319 126.4561,-116.4899\" fill=\"none\" stroke=\"#000000\"/>\n",
       "<polygon fill=\"#000000\" points=\"128.9536,-118.9476 133.9228,-109.5904 124.2029,-113.8065 128.9536,-118.9476\" stroke=\"#000000\"/>\n",
       "</g>\n",
       "<!-- 140175856601800 -->\n",
       "<g class=\"node\" id=\"node2\">\n",
       "<title>140175856601800</title>\n",
       "<polygon fill=\"none\" points=\"167,-146.5 167,-182.5 298,-182.5 298,-146.5 167,-146.5\" stroke=\"#000000\"/>\n",
       "<text fill=\"#000000\" font-family=\"Times,serif\" font-size=\"14.00\" text-anchor=\"middle\" x=\"232.5\" y=\"-160.8\">eps: InputLayer</text>\n",
       "</g>\n",
       "<!-- 140175856601800&#45;&gt;140175856602360 -->\n",
       "<g class=\"edge\" id=\"edge2\">\n",
       "<title>140175856601800-&gt;140175856602360</title>\n",
       "<path d=\"M212.9719,-146.4551C203.1917,-137.4177 191.1948,-126.3319 180.5439,-116.4899\" fill=\"none\" stroke=\"#000000\"/>\n",
       "<polygon fill=\"#000000\" points=\"182.7971,-113.8065 173.0772,-109.5904 178.0464,-118.9476 182.7971,-113.8065\" stroke=\"#000000\"/>\n",
       "</g>\n",
       "<!-- 140175856602248 -->\n",
       "<g class=\"node\" id=\"node3\">\n",
       "<title>140175856602248</title>\n",
       "<polygon fill=\"none\" points=\"234.5,-73.5 234.5,-109.5 362.5,-109.5 362.5,-73.5 234.5,-73.5\" stroke=\"#000000\"/>\n",
       "<text fill=\"#000000\" font-family=\"Times,serif\" font-size=\"14.00\" text-anchor=\"middle\" x=\"298.5\" y=\"-87.8\">mu: InputLayer</text>\n",
       "</g>\n",
       "<!-- 140175856600736 -->\n",
       "<g class=\"node\" id=\"node5\">\n",
       "<title>140175856600736</title>\n",
       "<polygon fill=\"none\" points=\"194.5,-.5 194.5,-36.5 256.5,-36.5 256.5,-.5 194.5,-.5\" stroke=\"#000000\"/>\n",
       "<text fill=\"#000000\" font-family=\"Times,serif\" font-size=\"14.00\" text-anchor=\"middle\" x=\"225.5\" y=\"-14.8\">z: Add</text>\n",
       "</g>\n",
       "<!-- 140175856602248&#45;&gt;140175856600736 -->\n",
       "<g class=\"edge\" id=\"edge3\">\n",
       "<title>140175856602248-&gt;140175856600736</title>\n",
       "<path d=\"M280.4551,-73.4551C271.5054,-64.5054 260.547,-53.547 250.7769,-43.7769\" fill=\"none\" stroke=\"#000000\"/>\n",
       "<polygon fill=\"#000000\" points=\"253.1363,-41.1866 243.5904,-36.5904 248.1866,-46.1363 253.1363,-41.1866\" stroke=\"#000000\"/>\n",
       "</g>\n",
       "<!-- 140175856602360&#45;&gt;140175856600736 -->\n",
       "<g class=\"edge\" id=\"edge4\">\n",
       "<title>140175856602360-&gt;140175856600736</title>\n",
       "<path d=\"M171.2978,-73.4551C180.1248,-64.5054 190.9331,-53.547 200.5693,-43.7769\" fill=\"none\" stroke=\"#000000\"/>\n",
       "<polygon fill=\"#000000\" points=\"203.1272,-46.1678 207.6575,-36.5904 198.1434,-41.2523 203.1272,-46.1678\" stroke=\"#000000\"/>\n",
       "</g>\n",
       "</g>\n",
       "</svg>"
      ],
      "text/plain": [
       "<IPython.core.display.SVG object>"
      ]
     },
     "execution_count": 17,
     "metadata": {},
     "output_type": "execute_result"
    }
   ],
   "source": [
    "SVG(model_to_dot(m, show_shapes=False).create(prog='dot', format='svg'))"
   ]
  },
  {
   "cell_type": "code",
   "execution_count": 18,
   "metadata": {},
   "outputs": [],
   "source": [
    "plot_model(\n",
    "    model=m, show_shapes=False,\n",
    "    to_file='../../images/vae/reparameterization.svg'\n",
    ")"
   ]
  },
  {
   "cell_type": "code",
   "execution_count": 19,
   "metadata": {},
   "outputs": [],
   "source": [
    "plot_model(\n",
    "    model=m, show_shapes=False,\n",
    "    to_file='../../images/vae/reparameterization.svg'\n",
    ")"
   ]
  },
  {
   "cell_type": "markdown",
   "metadata": {},
   "source": [
    "##### Figure 2: Encoder architecture"
   ]
  },
  {
   "cell_type": "code",
   "execution_count": 26,
   "metadata": {},
   "outputs": [],
   "source": [
    "x = Input(shape=(original_dim,), name='x')\n",
    "h = Dense(intermediate_dim, activation='relu', name='encoder_hidden')(x)\n",
    "z_mu = Dense(latent_dim, name='mu')(h)\n",
    "z_log_var = Dense(latent_dim, name='log_var')(h)\n",
    "z_sigma = Lambda(lambda t: K.exp(.5*t), name='sigma')(z_log_var)"
   ]
  },
  {
   "cell_type": "code",
   "execution_count": 27,
   "metadata": {},
   "outputs": [],
   "source": [
    "eps = Input(shape=(latent_dim,), name='eps')\n",
    "z_eps = Multiply(name='z_eps')([z_sigma, eps])\n",
    "z = Add(name='z')([z_mu, z_eps])"
   ]
  },
  {
   "cell_type": "code",
   "execution_count": 28,
   "metadata": {},
   "outputs": [],
   "source": [
    "encoder = Model(inputs=[x, eps], outputs=z)"
   ]
  },
  {
   "cell_type": "code",
   "execution_count": 29,
   "metadata": {},
   "outputs": [
    {
     "data": {
      "image/svg+xml": [
       "<svg height=\"410pt\" viewBox=\"0.00 0.00 358.00 410.00\" width=\"358pt\" xmlns=\"http://www.w3.org/2000/svg\" xmlns:xlink=\"http://www.w3.org/1999/xlink\">\n",
       "<g class=\"graph\" id=\"graph0\" transform=\"scale(1 1) rotate(0) translate(4 406)\">\n",
       "<title>G</title>\n",
       "<polygon fill=\"#ffffff\" points=\"-4,4 -4,-406 354,-406 354,4 -4,4\" stroke=\"transparent\"/>\n",
       "<!-- 140175855034552 -->\n",
       "<g class=\"node\" id=\"node1\">\n",
       "<title>140175855034552</title>\n",
       "<polygon fill=\"none\" points=\"126,-365.5 126,-401.5 240,-401.5 240,-365.5 126,-365.5\" stroke=\"#000000\"/>\n",
       "<text fill=\"#000000\" font-family=\"Times,serif\" font-size=\"14.00\" text-anchor=\"middle\" x=\"183\" y=\"-379.8\">x: InputLayer</text>\n",
       "</g>\n",
       "<!-- 140175854580456 -->\n",
       "<g class=\"node\" id=\"node2\">\n",
       "<title>140175854580456</title>\n",
       "<polygon fill=\"none\" points=\"91,-292.5 91,-328.5 275,-328.5 275,-292.5 91,-292.5\" stroke=\"#000000\"/>\n",
       "<text fill=\"#000000\" font-family=\"Times,serif\" font-size=\"14.00\" text-anchor=\"middle\" x=\"183\" y=\"-306.8\">encoder_hidden: Dense</text>\n",
       "</g>\n",
       "<!-- 140175855034552&#45;&gt;140175854580456 -->\n",
       "<g class=\"edge\" id=\"edge1\">\n",
       "<title>140175855034552-&gt;140175854580456</title>\n",
       "<path d=\"M183,-365.4551C183,-357.3828 183,-347.6764 183,-338.6817\" fill=\"none\" stroke=\"#000000\"/>\n",
       "<polygon fill=\"#000000\" points=\"186.5001,-338.5903 183,-328.5904 179.5001,-338.5904 186.5001,-338.5903\" stroke=\"#000000\"/>\n",
       "</g>\n",
       "<!-- 140175854581184 -->\n",
       "<g class=\"node\" id=\"node3\">\n",
       "<title>140175854581184</title>\n",
       "<polygon fill=\"none\" points=\"78,-219.5 78,-255.5 200,-255.5 200,-219.5 78,-219.5\" stroke=\"#000000\"/>\n",
       "<text fill=\"#000000\" font-family=\"Times,serif\" font-size=\"14.00\" text-anchor=\"middle\" x=\"139\" y=\"-233.8\">log_var: Dense</text>\n",
       "</g>\n",
       "<!-- 140175854580456&#45;&gt;140175854581184 -->\n",
       "<g class=\"edge\" id=\"edge2\">\n",
       "<title>140175854580456-&gt;140175854581184</title>\n",
       "<path d=\"M172.1236,-292.4551C166.9937,-283.9441 160.7688,-273.6165 155.1064,-264.2219\" fill=\"none\" stroke=\"#000000\"/>\n",
       "<polygon fill=\"#000000\" points=\"158.0636,-262.3481 149.9038,-255.5904 152.0684,-265.9617 158.0636,-262.3481\" stroke=\"#000000\"/>\n",
       "</g>\n",
       "<!-- 140175854580512 -->\n",
       "<g class=\"node\" id=\"node6\">\n",
       "<title>140175854580512</title>\n",
       "<polygon fill=\"none\" points=\"258,-73.5 258,-109.5 350,-109.5 350,-73.5 258,-73.5\" stroke=\"#000000\"/>\n",
       "<text fill=\"#000000\" font-family=\"Times,serif\" font-size=\"14.00\" text-anchor=\"middle\" x=\"304\" y=\"-87.8\">mu: Dense</text>\n",
       "</g>\n",
       "<!-- 140175854580456&#45;&gt;140175854580512 -->\n",
       "<g class=\"edge\" id=\"edge4\">\n",
       "<title>140175854580456-&gt;140175854580512</title>\n",
       "<path d=\"M202.4427,-292.1722C225.7862,-269.0153 264.3645,-226.862 285,-183 294.397,-163.0262 299.1723,-138.4386 301.5842,-119.783\" fill=\"none\" stroke=\"#000000\"/>\n",
       "<polygon fill=\"#000000\" points=\"305.0634,-120.1634 302.7218,-109.8305 298.1087,-119.3683 305.0634,-120.1634\" stroke=\"#000000\"/>\n",
       "</g>\n",
       "<!-- 140175854597680 -->\n",
       "<g class=\"node\" id=\"node4\">\n",
       "<title>140175854597680</title>\n",
       "<polygon fill=\"none\" points=\"0,-146.5 0,-182.5 126,-182.5 126,-146.5 0,-146.5\" stroke=\"#000000\"/>\n",
       "<text fill=\"#000000\" font-family=\"Times,serif\" font-size=\"14.00\" text-anchor=\"middle\" x=\"63\" y=\"-160.8\">sigma: Lambda</text>\n",
       "</g>\n",
       "<!-- 140175854581184&#45;&gt;140175854597680 -->\n",
       "<g class=\"edge\" id=\"edge3\">\n",
       "<title>140175854581184-&gt;140175854597680</title>\n",
       "<path d=\"M120.2135,-219.4551C110.8961,-210.5054 99.4873,-199.547 89.3157,-189.7769\" fill=\"none\" stroke=\"#000000\"/>\n",
       "<polygon fill=\"#000000\" points=\"91.4704,-186.9935 81.8338,-182.5904 86.6212,-192.0419 91.4704,-186.9935\" stroke=\"#000000\"/>\n",
       "</g>\n",
       "<!-- 140175854672976 -->\n",
       "<g class=\"node\" id=\"node7\">\n",
       "<title>140175854672976</title>\n",
       "<polygon fill=\"none\" points=\"114.5,-73.5 114.5,-109.5 239.5,-109.5 239.5,-73.5 114.5,-73.5\" stroke=\"#000000\"/>\n",
       "<text fill=\"#000000\" font-family=\"Times,serif\" font-size=\"14.00\" text-anchor=\"middle\" x=\"177\" y=\"-87.8\">z_eps: Multiply</text>\n",
       "</g>\n",
       "<!-- 140175854597680&#45;&gt;140175854672976 -->\n",
       "<g class=\"edge\" id=\"edge5\">\n",
       "<title>140175854597680-&gt;140175854672976</title>\n",
       "<path d=\"M91.1798,-146.4551C105.978,-136.979 124.2933,-125.2508 140.1986,-115.0658\" fill=\"none\" stroke=\"#000000\"/>\n",
       "<polygon fill=\"#000000\" points=\"142.2154,-117.9305 148.7493,-109.5904 138.4405,-112.0356 142.2154,-117.9305\" stroke=\"#000000\"/>\n",
       "</g>\n",
       "<!-- 140175855075168 -->\n",
       "<g class=\"node\" id=\"node5\">\n",
       "<title>140175855075168</title>\n",
       "<polygon fill=\"none\" points=\"144.5,-146.5 144.5,-182.5 275.5,-182.5 275.5,-146.5 144.5,-146.5\" stroke=\"#000000\"/>\n",
       "<text fill=\"#000000\" font-family=\"Times,serif\" font-size=\"14.00\" text-anchor=\"middle\" x=\"210\" y=\"-160.8\">eps: InputLayer</text>\n",
       "</g>\n",
       "<!-- 140175855075168&#45;&gt;140175854672976 -->\n",
       "<g class=\"edge\" id=\"edge6\">\n",
       "<title>140175855075168-&gt;140175854672976</title>\n",
       "<path d=\"M201.8427,-146.4551C198.0746,-138.1196 193.5188,-128.0416 189.343,-118.8042\" fill=\"none\" stroke=\"#000000\"/>\n",
       "<polygon fill=\"#000000\" points=\"192.4864,-117.2608 185.1778,-109.5904 186.1078,-120.1443 192.4864,-117.2608\" stroke=\"#000000\"/>\n",
       "</g>\n",
       "<!-- 140175854673536 -->\n",
       "<g class=\"node\" id=\"node8\">\n",
       "<title>140175854673536</title>\n",
       "<polygon fill=\"none\" points=\"209,-.5 209,-36.5 271,-36.5 271,-.5 209,-.5\" stroke=\"#000000\"/>\n",
       "<text fill=\"#000000\" font-family=\"Times,serif\" font-size=\"14.00\" text-anchor=\"middle\" x=\"240\" y=\"-14.8\">z: Add</text>\n",
       "</g>\n",
       "<!-- 140175854580512&#45;&gt;140175854673536 -->\n",
       "<g class=\"edge\" id=\"edge7\">\n",
       "<title>140175854580512-&gt;140175854673536</title>\n",
       "<path d=\"M288.1798,-73.4551C280.4874,-64.6809 271.1022,-53.9759 262.6656,-44.353\" fill=\"none\" stroke=\"#000000\"/>\n",
       "<polygon fill=\"#000000\" points=\"265.0842,-41.8024 255.86,-36.5904 259.8206,-46.4171 265.0842,-41.8024\" stroke=\"#000000\"/>\n",
       "</g>\n",
       "<!-- 140175854672976&#45;&gt;140175854673536 -->\n",
       "<g class=\"edge\" id=\"edge8\">\n",
       "<title>140175854672976-&gt;140175854673536</title>\n",
       "<path d=\"M192.573,-73.4551C200.1452,-64.6809 209.3838,-53.9759 217.6885,-44.353\" fill=\"none\" stroke=\"#000000\"/>\n",
       "<polygon fill=\"#000000\" points=\"220.5039,-46.4477 224.3878,-36.5904 215.2045,-41.8742 220.5039,-46.4477\" stroke=\"#000000\"/>\n",
       "</g>\n",
       "</g>\n",
       "</svg>"
      ],
      "text/plain": [
       "<IPython.core.display.SVG object>"
      ]
     },
     "execution_count": 29,
     "metadata": {},
     "output_type": "execute_result"
    }
   ],
   "source": [
    "SVG(model_to_dot(encoder, show_shapes=False)\n",
    "    .create(prog='dot', format='svg'))"
   ]
  },
  {
   "cell_type": "code",
   "execution_count": 30,
   "metadata": {},
   "outputs": [],
   "source": [
    "plot_model(\n",
    "    model=encoder, show_shapes=False,\n",
    "    to_file='../../images/vae/encoder.svg'\n",
    ")"
   ]
  },
  {
   "cell_type": "code",
   "execution_count": 31,
   "metadata": {},
   "outputs": [],
   "source": [
    "plot_model(\n",
    "    model=encoder, show_shapes=True,\n",
    "    to_file='../../images/vae/encoder_shapes.svg'\n",
    ")"
   ]
  },
  {
   "cell_type": "markdown",
   "metadata": {},
   "source": [
    "##### Figure 3: Full Encoder architecture with auxiliary layers"
   ]
  },
  {
   "cell_type": "code",
   "execution_count": 32,
   "metadata": {},
   "outputs": [],
   "source": [
    "class KLDivergenceLayer(Layer):\n",
    "\n",
    "    def __init__(self, *args, **kwargs):\n",
    "        self.is_placeholder = True\n",
    "        super(KLDivergenceLayer, self).__init__(*args, **kwargs)\n",
    "\n",
    "    def call(self, inputs):\n",
    "\n",
    "        mu, log_var = inputs\n",
    "\n",
    "        kl = - .5 * K.sum(1 + K.print_tensor(log_var, message='prick') \n",
    "                            - K.square(mu) \n",
    "                            - K.exp(log_var), axis=-1)\n",
    "\n",
    "        self.add_loss(kl, inputs=inputs)\n",
    "\n",
    "        return inputs"
   ]
  },
  {
   "cell_type": "code",
   "execution_count": 33,
   "metadata": {},
   "outputs": [],
   "source": [
    "z_mu, z_log_var = KLDivergenceLayer(name='kl')([z_mu, z_log_var])\n",
    "z_sigma = Lambda(lambda t: K.exp(.5*t), name='sigma')(z_log_var)"
   ]
  },
  {
   "cell_type": "code",
   "execution_count": 34,
   "metadata": {},
   "outputs": [],
   "source": [
    "eps = Input(shape=(latent_dim,), name='eps')\n",
    "z_eps = Multiply(name='sigma_eps')([z_sigma, eps])\n",
    "z = Add(name='z')([z_mu, z_eps])"
   ]
  },
  {
   "cell_type": "code",
   "execution_count": 35,
   "metadata": {},
   "outputs": [],
   "source": [
    "encoder = Model(inputs=[x, eps], outputs=z)"
   ]
  },
  {
   "cell_type": "code",
   "execution_count": 36,
   "metadata": {},
   "outputs": [
    {
     "data": {
      "image/svg+xml": [
       "<svg height=\"483pt\" viewBox=\"0.00 0.00 315.00 483.00\" width=\"315pt\" xmlns=\"http://www.w3.org/2000/svg\" xmlns:xlink=\"http://www.w3.org/1999/xlink\">\n",
       "<g class=\"graph\" id=\"graph0\" transform=\"scale(1 1) rotate(0) translate(4 479)\">\n",
       "<title>G</title>\n",
       "<polygon fill=\"#ffffff\" points=\"-4,4 -4,-479 311,-479 311,4 -4,4\" stroke=\"transparent\"/>\n",
       "<!-- 140175855034552 -->\n",
       "<g class=\"node\" id=\"node1\">\n",
       "<title>140175855034552</title>\n",
       "<polygon fill=\"none\" points=\"126,-438.5 126,-474.5 240,-474.5 240,-438.5 126,-438.5\" stroke=\"#000000\"/>\n",
       "<text fill=\"#000000\" font-family=\"Times,serif\" font-size=\"14.00\" text-anchor=\"middle\" x=\"183\" y=\"-452.8\">x: InputLayer</text>\n",
       "</g>\n",
       "<!-- 140175854580456 -->\n",
       "<g class=\"node\" id=\"node2\">\n",
       "<title>140175854580456</title>\n",
       "<polygon fill=\"none\" points=\"91,-365.5 91,-401.5 275,-401.5 275,-365.5 91,-365.5\" stroke=\"#000000\"/>\n",
       "<text fill=\"#000000\" font-family=\"Times,serif\" font-size=\"14.00\" text-anchor=\"middle\" x=\"183\" y=\"-379.8\">encoder_hidden: Dense</text>\n",
       "</g>\n",
       "<!-- 140175855034552&#45;&gt;140175854580456 -->\n",
       "<g class=\"edge\" id=\"edge1\">\n",
       "<title>140175855034552-&gt;140175854580456</title>\n",
       "<path d=\"M183,-438.4551C183,-430.3828 183,-420.6764 183,-411.6817\" fill=\"none\" stroke=\"#000000\"/>\n",
       "<polygon fill=\"#000000\" points=\"186.5001,-411.5903 183,-401.5904 179.5001,-411.5904 186.5001,-411.5903\" stroke=\"#000000\"/>\n",
       "</g>\n",
       "<!-- 140175854580512 -->\n",
       "<g class=\"node\" id=\"node3\">\n",
       "<title>140175854580512</title>\n",
       "<polygon fill=\"none\" points=\"75,-292.5 75,-328.5 167,-328.5 167,-292.5 75,-292.5\" stroke=\"#000000\"/>\n",
       "<text fill=\"#000000\" font-family=\"Times,serif\" font-size=\"14.00\" text-anchor=\"middle\" x=\"121\" y=\"-306.8\">mu: Dense</text>\n",
       "</g>\n",
       "<!-- 140175854580456&#45;&gt;140175854580512 -->\n",
       "<g class=\"edge\" id=\"edge2\">\n",
       "<title>140175854580456-&gt;140175854580512</title>\n",
       "<path d=\"M167.6742,-365.4551C160.2221,-356.6809 151.1302,-345.9759 142.9573,-336.353\" fill=\"none\" stroke=\"#000000\"/>\n",
       "<polygon fill=\"#000000\" points=\"145.5056,-333.9466 136.3644,-328.5904 140.1702,-338.4781 145.5056,-333.9466\" stroke=\"#000000\"/>\n",
       "</g>\n",
       "<!-- 140175854581184 -->\n",
       "<g class=\"node\" id=\"node4\">\n",
       "<title>140175854581184</title>\n",
       "<polygon fill=\"none\" points=\"185,-292.5 185,-328.5 307,-328.5 307,-292.5 185,-292.5\" stroke=\"#000000\"/>\n",
       "<text fill=\"#000000\" font-family=\"Times,serif\" font-size=\"14.00\" text-anchor=\"middle\" x=\"246\" y=\"-306.8\">log_var: Dense</text>\n",
       "</g>\n",
       "<!-- 140175854580456&#45;&gt;140175854581184 -->\n",
       "<g class=\"edge\" id=\"edge3\">\n",
       "<title>140175854580456-&gt;140175854581184</title>\n",
       "<path d=\"M198.573,-365.4551C206.1452,-356.6809 215.3838,-345.9759 223.6885,-336.353\" fill=\"none\" stroke=\"#000000\"/>\n",
       "<polygon fill=\"#000000\" points=\"226.5039,-338.4477 230.3878,-328.5904 221.2045,-333.8742 226.5039,-338.4477\" stroke=\"#000000\"/>\n",
       "</g>\n",
       "<!-- 140175854990168 -->\n",
       "<g class=\"node\" id=\"node5\">\n",
       "<title>140175854990168</title>\n",
       "<polygon fill=\"none\" points=\"92,-219.5 92,-255.5 274,-255.5 274,-219.5 92,-219.5\" stroke=\"#000000\"/>\n",
       "<text fill=\"#000000\" font-family=\"Times,serif\" font-size=\"14.00\" text-anchor=\"middle\" x=\"183\" y=\"-233.8\">kl: KLDivergenceLayer</text>\n",
       "</g>\n",
       "<!-- 140175854580512&#45;&gt;140175854990168 -->\n",
       "<g class=\"edge\" id=\"edge4\">\n",
       "<title>140175854580512-&gt;140175854990168</title>\n",
       "<path d=\"M136.3258,-292.4551C143.7779,-283.6809 152.8698,-272.9759 161.0427,-263.353\" fill=\"none\" stroke=\"#000000\"/>\n",
       "<polygon fill=\"#000000\" points=\"163.8298,-265.4781 167.6356,-255.5904 158.4944,-260.9466 163.8298,-265.4781\" stroke=\"#000000\"/>\n",
       "</g>\n",
       "<!-- 140175854581184&#45;&gt;140175854990168 -->\n",
       "<g class=\"edge\" id=\"edge5\">\n",
       "<title>140175854581184-&gt;140175854990168</title>\n",
       "<path d=\"M230.427,-292.4551C222.8548,-283.6809 213.6162,-272.9759 205.3115,-263.353\" fill=\"none\" stroke=\"#000000\"/>\n",
       "<polygon fill=\"#000000\" points=\"207.7955,-260.8742 198.6122,-255.5904 202.4961,-265.4477 207.7955,-260.8742\" stroke=\"#000000\"/>\n",
       "</g>\n",
       "<!-- 140176957339800 -->\n",
       "<g class=\"node\" id=\"node6\">\n",
       "<title>140176957339800</title>\n",
       "<polygon fill=\"none\" points=\"0,-146.5 0,-182.5 126,-182.5 126,-146.5 0,-146.5\" stroke=\"#000000\"/>\n",
       "<text fill=\"#000000\" font-family=\"Times,serif\" font-size=\"14.00\" text-anchor=\"middle\" x=\"63\" y=\"-160.8\">sigma: Lambda</text>\n",
       "</g>\n",
       "<!-- 140175854990168&#45;&gt;140176957339800 -->\n",
       "<g class=\"edge\" id=\"edge6\">\n",
       "<title>140175854990168-&gt;140176957339800</title>\n",
       "<path d=\"M153.3371,-219.4551C137.76,-209.979 118.4807,-198.2508 101.7383,-188.0658\" fill=\"none\" stroke=\"#000000\"/>\n",
       "<polygon fill=\"#000000\" points=\"103.1,-184.7974 92.7376,-182.5904 99.4619,-190.7778 103.1,-184.7974\" stroke=\"#000000\"/>\n",
       "</g>\n",
       "<!-- 140175854993136 -->\n",
       "<g class=\"node\" id=\"node9\">\n",
       "<title>140175854993136</title>\n",
       "<polygon fill=\"none\" points=\"218,-.5 218,-36.5 280,-36.5 280,-.5 218,-.5\" stroke=\"#000000\"/>\n",
       "<text fill=\"#000000\" font-family=\"Times,serif\" font-size=\"14.00\" text-anchor=\"middle\" x=\"249\" y=\"-14.8\">z: Add</text>\n",
       "</g>\n",
       "<!-- 140175854990168&#45;&gt;140175854993136 -->\n",
       "<g class=\"edge\" id=\"edge9\">\n",
       "<title>140175854990168-&gt;140175854993136</title>\n",
       "<path d=\"M240.5572,-219.4931C257.5454,-211.1963 274.1989,-199.4258 284,-183 309.051,-141.017 297.766,-119.9108 284,-73 281.133,-63.23 275.9155,-53.5532 270.3689,-45.1259\" fill=\"none\" stroke=\"#000000\"/>\n",
       "<polygon fill=\"#000000\" points=\"273.1652,-43.0175 264.5544,-36.8446 267.4363,-47.0399 273.1652,-43.0175\" stroke=\"#000000\"/>\n",
       "</g>\n",
       "<!-- 140175854990000 -->\n",
       "<g class=\"node\" id=\"node8\">\n",
       "<title>140175854990000</title>\n",
       "<polygon fill=\"none\" points=\"114.5,-73.5 114.5,-109.5 275.5,-109.5 275.5,-73.5 114.5,-73.5\" stroke=\"#000000\"/>\n",
       "<text fill=\"#000000\" font-family=\"Times,serif\" font-size=\"14.00\" text-anchor=\"middle\" x=\"195\" y=\"-87.8\">sigma_eps: Multiply</text>\n",
       "</g>\n",
       "<!-- 140176957339800&#45;&gt;140175854990000 -->\n",
       "<g class=\"edge\" id=\"edge7\">\n",
       "<title>140176957339800-&gt;140175854990000</title>\n",
       "<path d=\"M95.6292,-146.4551C113.0814,-136.8035 134.758,-124.8156 153.4081,-114.5016\" fill=\"none\" stroke=\"#000000\"/>\n",
       "<polygon fill=\"#000000\" points=\"155.2316,-117.4928 162.2887,-109.5904 151.8439,-111.3671 155.2316,-117.4928\" stroke=\"#000000\"/>\n",
       "</g>\n",
       "<!-- 140175854990224 -->\n",
       "<g class=\"node\" id=\"node7\">\n",
       "<title>140175854990224</title>\n",
       "<polygon fill=\"none\" points=\"144.5,-146.5 144.5,-182.5 275.5,-182.5 275.5,-146.5 144.5,-146.5\" stroke=\"#000000\"/>\n",
       "<text fill=\"#000000\" font-family=\"Times,serif\" font-size=\"14.00\" text-anchor=\"middle\" x=\"210\" y=\"-160.8\">eps: InputLayer</text>\n",
       "</g>\n",
       "<!-- 140175854990224&#45;&gt;140175854990000 -->\n",
       "<g class=\"edge\" id=\"edge8\">\n",
       "<title>140175854990224-&gt;140175854990000</title>\n",
       "<path d=\"M206.2921,-146.4551C204.6154,-138.2951 202.5956,-128.4652 200.7306,-119.3887\" fill=\"none\" stroke=\"#000000\"/>\n",
       "<polygon fill=\"#000000\" points=\"204.1584,-118.6812 198.7172,-109.5904 197.3016,-120.0902 204.1584,-118.6812\" stroke=\"#000000\"/>\n",
       "</g>\n",
       "<!-- 140175854990000&#45;&gt;140175854993136 -->\n",
       "<g class=\"edge\" id=\"edge10\">\n",
       "<title>140175854990000-&gt;140175854993136</title>\n",
       "<path d=\"M208.3483,-73.4551C214.7739,-64.7686 222.5993,-54.1898 229.6621,-44.642\" fill=\"none\" stroke=\"#000000\"/>\n",
       "<polygon fill=\"#000000\" points=\"232.4849,-46.7113 235.6181,-36.5904 226.8572,-42.5484 232.4849,-46.7113\" stroke=\"#000000\"/>\n",
       "</g>\n",
       "</g>\n",
       "</svg>"
      ],
      "text/plain": [
       "<IPython.core.display.SVG object>"
      ]
     },
     "execution_count": 36,
     "metadata": {},
     "output_type": "execute_result"
    }
   ],
   "source": [
    "SVG(model_to_dot(encoder, show_shapes=False)\n",
    "    .create(prog='dot', format='svg'))"
   ]
  },
  {
   "cell_type": "code",
   "execution_count": 37,
   "metadata": {},
   "outputs": [],
   "source": [
    "plot_model(\n",
    "    model=encoder, show_shapes=False,\n",
    "    to_file='../../images/vae/encoder_full.svg'\n",
    ")"
   ]
  },
  {
   "cell_type": "code",
   "execution_count": 38,
   "metadata": {},
   "outputs": [],
   "source": [
    "plot_model(\n",
    "    model=encoder, show_shapes=True,\n",
    "    to_file='../../images/vae/encoder_full_shapes.svg'\n",
    ")"
   ]
  },
  {
   "cell_type": "markdown",
   "metadata": {},
   "source": [
    "#### Decoder"
   ]
  },
  {
   "cell_type": "code",
   "execution_count": 58,
   "metadata": {},
   "outputs": [],
   "source": [
    "decoder = Sequential([\n",
    "    Dense(intermediate_dim, input_dim=latent_dim, \n",
    "          activation='relu', name='decoder_hidden'),\n",
    "    Dense(original_dim, activation='sigmoid', name='x_mean')\n",
    "], name='decoder')"
   ]
  },
  {
   "cell_type": "code",
   "execution_count": 59,
   "metadata": {},
   "outputs": [],
   "source": [
    "# equivalent to above. Writing InputLayer \n",
    "# explicitly for layer name in diagram \n",
    "decoder = Sequential([\n",
    "    InputLayer(input_shape=(latent_dim,), name='z'),\n",
    "    Dense(intermediate_dim, input_shape=(latent_dim,),\n",
    "          activation='relu', name='decoder_hidden'),\n",
    "    Dense(original_dim, activation='sigmoid', name='x_mean')\n",
    "], name='decoder')"
   ]
  },
  {
   "cell_type": "code",
   "execution_count": 61,
   "metadata": {
    "scrolled": true
   },
   "outputs": [
    {
     "data": {
      "image/svg+xml": [
       "<svg height=\"191pt\" viewBox=\"0.00 0.00 192.00 191.00\" width=\"192pt\" xmlns=\"http://www.w3.org/2000/svg\" xmlns:xlink=\"http://www.w3.org/1999/xlink\">\n",
       "<g class=\"graph\" id=\"graph0\" transform=\"scale(1 1) rotate(0) translate(4 187)\">\n",
       "<title>G</title>\n",
       "<polygon fill=\"#ffffff\" points=\"-4,4 -4,-187 188,-187 188,4 -4,4\" stroke=\"transparent\"/>\n",
       "<!-- 140175839431480 -->\n",
       "<g class=\"node\" id=\"node1\">\n",
       "<title>140175839431480</title>\n",
       "<polygon fill=\"none\" points=\"35.5,-146.5 35.5,-182.5 148.5,-182.5 148.5,-146.5 35.5,-146.5\" stroke=\"#000000\"/>\n",
       "<text fill=\"#000000\" font-family=\"Times,serif\" font-size=\"14.00\" text-anchor=\"middle\" x=\"92\" y=\"-160.8\">z: InputLayer</text>\n",
       "</g>\n",
       "<!-- 140175839430864 -->\n",
       "<g class=\"node\" id=\"node2\">\n",
       "<title>140175839430864</title>\n",
       "<polygon fill=\"none\" points=\"0,-73.5 0,-109.5 184,-109.5 184,-73.5 0,-73.5\" stroke=\"#000000\"/>\n",
       "<text fill=\"#000000\" font-family=\"Times,serif\" font-size=\"14.00\" text-anchor=\"middle\" x=\"92\" y=\"-87.8\">decoder_hidden: Dense</text>\n",
       "</g>\n",
       "<!-- 140175839431480&#45;&gt;140175839430864 -->\n",
       "<g class=\"edge\" id=\"edge1\">\n",
       "<title>140175839431480-&gt;140175839430864</title>\n",
       "<path d=\"M92,-146.4551C92,-138.3828 92,-128.6764 92,-119.6817\" fill=\"none\" stroke=\"#000000\"/>\n",
       "<polygon fill=\"#000000\" points=\"95.5001,-119.5903 92,-109.5904 88.5001,-119.5904 95.5001,-119.5903\" stroke=\"#000000\"/>\n",
       "</g>\n",
       "<!-- 140175839430920 -->\n",
       "<g class=\"node\" id=\"node3\">\n",
       "<title>140175839430920</title>\n",
       "<polygon fill=\"none\" points=\"29.5,-.5 29.5,-36.5 154.5,-36.5 154.5,-.5 29.5,-.5\" stroke=\"#000000\"/>\n",
       "<text fill=\"#000000\" font-family=\"Times,serif\" font-size=\"14.00\" text-anchor=\"middle\" x=\"92\" y=\"-14.8\">x_mean: Dense</text>\n",
       "</g>\n",
       "<!-- 140175839430864&#45;&gt;140175839430920 -->\n",
       "<g class=\"edge\" id=\"edge2\">\n",
       "<title>140175839430864-&gt;140175839430920</title>\n",
       "<path d=\"M92,-73.4551C92,-65.3828 92,-55.6764 92,-46.6817\" fill=\"none\" stroke=\"#000000\"/>\n",
       "<polygon fill=\"#000000\" points=\"95.5001,-46.5903 92,-36.5904 88.5001,-46.5904 95.5001,-46.5903\" stroke=\"#000000\"/>\n",
       "</g>\n",
       "</g>\n",
       "</svg>"
      ],
      "text/plain": [
       "<IPython.core.display.SVG object>"
      ]
     },
     "execution_count": 61,
     "metadata": {},
     "output_type": "execute_result"
    }
   ],
   "source": [
    "SVG(model_to_dot(decoder, show_shapes=False)\n",
    "    .create(prog='dot', format='svg'))"
   ]
  },
  {
   "cell_type": "code",
   "execution_count": 62,
   "metadata": {},
   "outputs": [],
   "source": [
    "plot_model(\n",
    "    model=decoder, show_shapes=False,\n",
    "    to_file='../../images/vae/decoder.svg'\n",
    ")"
   ]
  },
  {
   "cell_type": "code",
   "execution_count": 63,
   "metadata": {},
   "outputs": [],
   "source": [
    "plot_model(\n",
    "    model=decoder, show_shapes=True,\n",
    "    to_file='../../images/vae/decoder_shapes.svg'\n",
    ")"
   ]
  },
  {
   "cell_type": "code",
   "execution_count": 64,
   "metadata": {},
   "outputs": [],
   "source": [
    "x_decoded = decoder(z)"
   ]
  },
  {
   "cell_type": "code",
   "execution_count": 65,
   "metadata": {},
   "outputs": [],
   "source": [
    "# again, equivalent to above. writing out fully\n",
    "# for final end-to-end vae architecture visualization;\n",
    "# otherwise, sequential models just get chunked into\n",
    "# single layer\n",
    "h_decoded = Dense(intermediate_dim, \n",
    "                  activation='relu', \n",
    "                  name='decoder_hidden')(z)\n",
    "x_decoded = Dense(original_dim, \n",
    "                  activation='sigmoid', \n",
    "                  name='x_mean')(h_decoded)"
   ]
  },
  {
   "cell_type": "code",
   "execution_count": 66,
   "metadata": {},
   "outputs": [],
   "source": [
    "def nll(y_true, y_pred):\n",
    "    \"\"\" Negative log likelihood. \"\"\"\n",
    "\n",
    "    # keras.losses.binary_crossentropy give the mean\n",
    "    # over the last axis. we require the sum\n",
    "    return K.sum(K.binary_crossentropy(y_true, y_pred), axis=-1)"
   ]
  },
  {
   "cell_type": "code",
   "execution_count": 67,
   "metadata": {},
   "outputs": [],
   "source": [
    "vae = Model(inputs=[x, eps], outputs=x_decoded)\n",
    "vae.compile(optimizer='rmsprop', loss=nll)"
   ]
  },
  {
   "cell_type": "code",
   "execution_count": 68,
   "metadata": {},
   "outputs": [
    {
     "data": {
      "image/svg+xml": [
       "<svg height=\"719pt\" viewBox=\"0.00 0.00 676.00 719.00\" width=\"676pt\" xmlns=\"http://www.w3.org/2000/svg\" xmlns:xlink=\"http://www.w3.org/1999/xlink\">\n",
       "<g class=\"graph\" id=\"graph0\" transform=\"scale(1 1) rotate(0) translate(4 715)\">\n",
       "<title>G</title>\n",
       "<polygon fill=\"#ffffff\" points=\"-4,4 -4,-715 672,-715 672,4 -4,4\" stroke=\"transparent\"/>\n",
       "<!-- 140175855034552 -->\n",
       "<g class=\"node\" id=\"node1\">\n",
       "<title>140175855034552</title>\n",
       "<polygon fill=\"none\" points=\"230,-664.5 230,-710.5 513,-710.5 513,-664.5 230,-664.5\" stroke=\"#000000\"/>\n",
       "<text fill=\"#000000\" font-family=\"Times,serif\" font-size=\"14.00\" text-anchor=\"middle\" x=\"287\" y=\"-683.8\">x: InputLayer</text>\n",
       "<polyline fill=\"none\" points=\"344,-664.5 344,-710.5 \" stroke=\"#000000\"/>\n",
       "<text fill=\"#000000\" font-family=\"Times,serif\" font-size=\"14.00\" text-anchor=\"middle\" x=\"378\" y=\"-695.3\">input:</text>\n",
       "<polyline fill=\"none\" points=\"344,-687.5 412,-687.5 \" stroke=\"#000000\"/>\n",
       "<text fill=\"#000000\" font-family=\"Times,serif\" font-size=\"14.00\" text-anchor=\"middle\" x=\"378\" y=\"-672.3\">output:</text>\n",
       "<polyline fill=\"none\" points=\"412,-664.5 412,-710.5 \" stroke=\"#000000\"/>\n",
       "<text fill=\"#000000\" font-family=\"Times,serif\" font-size=\"14.00\" text-anchor=\"middle\" x=\"462.5\" y=\"-695.3\">(None, 784)</text>\n",
       "<polyline fill=\"none\" points=\"412,-687.5 513,-687.5 \" stroke=\"#000000\"/>\n",
       "<text fill=\"#000000\" font-family=\"Times,serif\" font-size=\"14.00\" text-anchor=\"middle\" x=\"462.5\" y=\"-672.3\">(None, 784)</text>\n",
       "</g>\n",
       "<!-- 140175854580456 -->\n",
       "<g class=\"node\" id=\"node2\">\n",
       "<title>140175854580456</title>\n",
       "<polygon fill=\"none\" points=\"195,-581.5 195,-627.5 548,-627.5 548,-581.5 195,-581.5\" stroke=\"#000000\"/>\n",
       "<text fill=\"#000000\" font-family=\"Times,serif\" font-size=\"14.00\" text-anchor=\"middle\" x=\"287\" y=\"-600.8\">encoder_hidden: Dense</text>\n",
       "<polyline fill=\"none\" points=\"379,-581.5 379,-627.5 \" stroke=\"#000000\"/>\n",
       "<text fill=\"#000000\" font-family=\"Times,serif\" font-size=\"14.00\" text-anchor=\"middle\" x=\"413\" y=\"-612.3\">input:</text>\n",
       "<polyline fill=\"none\" points=\"379,-604.5 447,-604.5 \" stroke=\"#000000\"/>\n",
       "<text fill=\"#000000\" font-family=\"Times,serif\" font-size=\"14.00\" text-anchor=\"middle\" x=\"413\" y=\"-589.3\">output:</text>\n",
       "<polyline fill=\"none\" points=\"447,-581.5 447,-627.5 \" stroke=\"#000000\"/>\n",
       "<text fill=\"#000000\" font-family=\"Times,serif\" font-size=\"14.00\" text-anchor=\"middle\" x=\"497.5\" y=\"-612.3\">(None, 784)</text>\n",
       "<polyline fill=\"none\" points=\"447,-604.5 548,-604.5 \" stroke=\"#000000\"/>\n",
       "<text fill=\"#000000\" font-family=\"Times,serif\" font-size=\"14.00\" text-anchor=\"middle\" x=\"497.5\" y=\"-589.3\">(None, 256)</text>\n",
       "</g>\n",
       "<!-- 140175855034552&#45;&gt;140175854580456 -->\n",
       "<g class=\"edge\" id=\"edge1\">\n",
       "<title>140175855034552-&gt;140175854580456</title>\n",
       "<path d=\"M371.5,-664.3799C371.5,-656.1745 371.5,-646.7679 371.5,-637.8786\" fill=\"none\" stroke=\"#000000\"/>\n",
       "<polygon fill=\"#000000\" points=\"375.0001,-637.784 371.5,-627.784 368.0001,-637.784 375.0001,-637.784\" stroke=\"#000000\"/>\n",
       "</g>\n",
       "<!-- 140175854580512 -->\n",
       "<g class=\"node\" id=\"node3\">\n",
       "<title>140175854580512</title>\n",
       "<polygon fill=\"none\" points=\"94,-498.5 94,-544.5 355,-544.5 355,-498.5 94,-498.5\" stroke=\"#000000\"/>\n",
       "<text fill=\"#000000\" font-family=\"Times,serif\" font-size=\"14.00\" text-anchor=\"middle\" x=\"140\" y=\"-517.8\">mu: Dense</text>\n",
       "<polyline fill=\"none\" points=\"186,-498.5 186,-544.5 \" stroke=\"#000000\"/>\n",
       "<text fill=\"#000000\" font-family=\"Times,serif\" font-size=\"14.00\" text-anchor=\"middle\" x=\"220\" y=\"-529.3\">input:</text>\n",
       "<polyline fill=\"none\" points=\"186,-521.5 254,-521.5 \" stroke=\"#000000\"/>\n",
       "<text fill=\"#000000\" font-family=\"Times,serif\" font-size=\"14.00\" text-anchor=\"middle\" x=\"220\" y=\"-506.3\">output:</text>\n",
       "<polyline fill=\"none\" points=\"254,-498.5 254,-544.5 \" stroke=\"#000000\"/>\n",
       "<text fill=\"#000000\" font-family=\"Times,serif\" font-size=\"14.00\" text-anchor=\"middle\" x=\"304.5\" y=\"-529.3\">(None, 256)</text>\n",
       "<polyline fill=\"none\" points=\"254,-521.5 355,-521.5 \" stroke=\"#000000\"/>\n",
       "<text fill=\"#000000\" font-family=\"Times,serif\" font-size=\"14.00\" text-anchor=\"middle\" x=\"304.5\" y=\"-506.3\">(None, 2)</text>\n",
       "</g>\n",
       "<!-- 140175854580456&#45;&gt;140175854580512 -->\n",
       "<g class=\"edge\" id=\"edge2\">\n",
       "<title>140175854580456-&gt;140175854580512</title>\n",
       "<path d=\"M330.5523,-581.3799C313.1037,-571.5279 292.5878,-559.9442 274.2735,-549.6034\" fill=\"none\" stroke=\"#000000\"/>\n",
       "<polygon fill=\"#000000\" points=\"275.9115,-546.5089 265.4828,-544.6399 272.4698,-552.6044 275.9115,-546.5089\" stroke=\"#000000\"/>\n",
       "</g>\n",
       "<!-- 140175854581184 -->\n",
       "<g class=\"node\" id=\"node4\">\n",
       "<title>140175854581184</title>\n",
       "<polygon fill=\"none\" points=\"373,-498.5 373,-544.5 664,-544.5 664,-498.5 373,-498.5\" stroke=\"#000000\"/>\n",
       "<text fill=\"#000000\" font-family=\"Times,serif\" font-size=\"14.00\" text-anchor=\"middle\" x=\"434\" y=\"-517.8\">log_var: Dense</text>\n",
       "<polyline fill=\"none\" points=\"495,-498.5 495,-544.5 \" stroke=\"#000000\"/>\n",
       "<text fill=\"#000000\" font-family=\"Times,serif\" font-size=\"14.00\" text-anchor=\"middle\" x=\"529\" y=\"-529.3\">input:</text>\n",
       "<polyline fill=\"none\" points=\"495,-521.5 563,-521.5 \" stroke=\"#000000\"/>\n",
       "<text fill=\"#000000\" font-family=\"Times,serif\" font-size=\"14.00\" text-anchor=\"middle\" x=\"529\" y=\"-506.3\">output:</text>\n",
       "<polyline fill=\"none\" points=\"563,-498.5 563,-544.5 \" stroke=\"#000000\"/>\n",
       "<text fill=\"#000000\" font-family=\"Times,serif\" font-size=\"14.00\" text-anchor=\"middle\" x=\"613.5\" y=\"-529.3\">(None, 256)</text>\n",
       "<polyline fill=\"none\" points=\"563,-521.5 664,-521.5 \" stroke=\"#000000\"/>\n",
       "<text fill=\"#000000\" font-family=\"Times,serif\" font-size=\"14.00\" text-anchor=\"middle\" x=\"613.5\" y=\"-506.3\">(None, 2)</text>\n",
       "</g>\n",
       "<!-- 140175854580456&#45;&gt;140175854581184 -->\n",
       "<g class=\"edge\" id=\"edge3\">\n",
       "<title>140175854580456-&gt;140175854581184</title>\n",
       "<path d=\"M412.4477,-581.3799C429.8963,-571.5279 450.4122,-559.9442 468.7265,-549.6034\" fill=\"none\" stroke=\"#000000\"/>\n",
       "<polygon fill=\"#000000\" points=\"470.5302,-552.6044 477.5172,-544.6399 467.0885,-546.5089 470.5302,-552.6044\" stroke=\"#000000\"/>\n",
       "</g>\n",
       "<!-- 140175854990168 -->\n",
       "<g class=\"node\" id=\"node5\">\n",
       "<title>140175854990168</title>\n",
       "<polygon fill=\"none\" points=\"161.5,-415.5 161.5,-461.5 581.5,-461.5 581.5,-415.5 161.5,-415.5\" stroke=\"#000000\"/>\n",
       "<text fill=\"#000000\" font-family=\"Times,serif\" font-size=\"14.00\" text-anchor=\"middle\" x=\"252.5\" y=\"-434.8\">kl: KLDivergenceLayer</text>\n",
       "<polyline fill=\"none\" points=\"343.5,-415.5 343.5,-461.5 \" stroke=\"#000000\"/>\n",
       "<text fill=\"#000000\" font-family=\"Times,serif\" font-size=\"14.00\" text-anchor=\"middle\" x=\"377.5\" y=\"-446.3\">input:</text>\n",
       "<polyline fill=\"none\" points=\"343.5,-438.5 411.5,-438.5 \" stroke=\"#000000\"/>\n",
       "<text fill=\"#000000\" font-family=\"Times,serif\" font-size=\"14.00\" text-anchor=\"middle\" x=\"377.5\" y=\"-423.3\">output:</text>\n",
       "<polyline fill=\"none\" points=\"411.5,-415.5 411.5,-461.5 \" stroke=\"#000000\"/>\n",
       "<text fill=\"#000000\" font-family=\"Times,serif\" font-size=\"14.00\" text-anchor=\"middle\" x=\"496.5\" y=\"-446.3\">[(None, 2), (None, 2)]</text>\n",
       "<polyline fill=\"none\" points=\"411.5,-438.5 581.5,-438.5 \" stroke=\"#000000\"/>\n",
       "<text fill=\"#000000\" font-family=\"Times,serif\" font-size=\"14.00\" text-anchor=\"middle\" x=\"496.5\" y=\"-423.3\">[(None, 2), (None, 2)]</text>\n",
       "</g>\n",
       "<!-- 140175854580512&#45;&gt;140175854990168 -->\n",
       "<g class=\"edge\" id=\"edge4\">\n",
       "<title>140175854580512-&gt;140175854990168</title>\n",
       "<path d=\"M265.4477,-498.3799C282.8963,-488.5279 303.4122,-476.9442 321.7265,-466.6034\" fill=\"none\" stroke=\"#000000\"/>\n",
       "<polygon fill=\"#000000\" points=\"323.5302,-469.6044 330.5172,-461.6399 320.0885,-463.5089 323.5302,-469.6044\" stroke=\"#000000\"/>\n",
       "</g>\n",
       "<!-- 140175854581184&#45;&gt;140175854990168 -->\n",
       "<g class=\"edge\" id=\"edge5\">\n",
       "<title>140175854581184-&gt;140175854990168</title>\n",
       "<path d=\"M477.5523,-498.3799C460.1037,-488.5279 439.5878,-476.9442 421.2735,-466.6034\" fill=\"none\" stroke=\"#000000\"/>\n",
       "<polygon fill=\"#000000\" points=\"422.9115,-463.5089 412.4828,-461.6399 419.4698,-469.6044 422.9115,-463.5089\" stroke=\"#000000\"/>\n",
       "</g>\n",
       "<!-- 140176957339800 -->\n",
       "<g class=\"node\" id=\"node6\">\n",
       "<title>140176957339800</title>\n",
       "<polygon fill=\"none\" points=\"0,-332.5 0,-378.5 277,-378.5 277,-332.5 0,-332.5\" stroke=\"#000000\"/>\n",
       "<text fill=\"#000000\" font-family=\"Times,serif\" font-size=\"14.00\" text-anchor=\"middle\" x=\"63\" y=\"-351.8\">sigma: Lambda</text>\n",
       "<polyline fill=\"none\" points=\"126,-332.5 126,-378.5 \" stroke=\"#000000\"/>\n",
       "<text fill=\"#000000\" font-family=\"Times,serif\" font-size=\"14.00\" text-anchor=\"middle\" x=\"160\" y=\"-363.3\">input:</text>\n",
       "<polyline fill=\"none\" points=\"126,-355.5 194,-355.5 \" stroke=\"#000000\"/>\n",
       "<text fill=\"#000000\" font-family=\"Times,serif\" font-size=\"14.00\" text-anchor=\"middle\" x=\"160\" y=\"-340.3\">output:</text>\n",
       "<polyline fill=\"none\" points=\"194,-332.5 194,-378.5 \" stroke=\"#000000\"/>\n",
       "<text fill=\"#000000\" font-family=\"Times,serif\" font-size=\"14.00\" text-anchor=\"middle\" x=\"235.5\" y=\"-363.3\">(None, 2)</text>\n",
       "<polyline fill=\"none\" points=\"194,-355.5 277,-355.5 \" stroke=\"#000000\"/>\n",
       "<text fill=\"#000000\" font-family=\"Times,serif\" font-size=\"14.00\" text-anchor=\"middle\" x=\"235.5\" y=\"-340.3\">(None, 2)</text>\n",
       "</g>\n",
       "<!-- 140175854990168&#45;&gt;140176957339800 -->\n",
       "<g class=\"edge\" id=\"edge6\">\n",
       "<title>140175854990168-&gt;140176957339800</title>\n",
       "<path d=\"M306.9059,-415.4901C277.7397,-405.1004 243.1176,-392.7672 212.8731,-381.9934\" fill=\"none\" stroke=\"#000000\"/>\n",
       "<polygon fill=\"#000000\" points=\"213.8144,-378.6134 203.2197,-378.5547 211.4654,-385.2075 213.8144,-378.6134\" stroke=\"#000000\"/>\n",
       "</g>\n",
       "<!-- 140175854993136 -->\n",
       "<g class=\"node\" id=\"node9\">\n",
       "<title>140175854993136</title>\n",
       "<polygon fill=\"none\" points=\"341.5,-166.5 341.5,-212.5 641.5,-212.5 641.5,-166.5 341.5,-166.5\" stroke=\"#000000\"/>\n",
       "<text fill=\"#000000\" font-family=\"Times,serif\" font-size=\"14.00\" text-anchor=\"middle\" x=\"372.5\" y=\"-185.8\">z: Add</text>\n",
       "<polyline fill=\"none\" points=\"403.5,-166.5 403.5,-212.5 \" stroke=\"#000000\"/>\n",
       "<text fill=\"#000000\" font-family=\"Times,serif\" font-size=\"14.00\" text-anchor=\"middle\" x=\"437.5\" y=\"-197.3\">input:</text>\n",
       "<polyline fill=\"none\" points=\"403.5,-189.5 471.5,-189.5 \" stroke=\"#000000\"/>\n",
       "<text fill=\"#000000\" font-family=\"Times,serif\" font-size=\"14.00\" text-anchor=\"middle\" x=\"437.5\" y=\"-174.3\">output:</text>\n",
       "<polyline fill=\"none\" points=\"471.5,-166.5 471.5,-212.5 \" stroke=\"#000000\"/>\n",
       "<text fill=\"#000000\" font-family=\"Times,serif\" font-size=\"14.00\" text-anchor=\"middle\" x=\"556.5\" y=\"-197.3\">[(None, 2), (None, 2)]</text>\n",
       "<polyline fill=\"none\" points=\"471.5,-189.5 641.5,-189.5 \" stroke=\"#000000\"/>\n",
       "<text fill=\"#000000\" font-family=\"Times,serif\" font-size=\"14.00\" text-anchor=\"middle\" x=\"556.5\" y=\"-174.3\">(None, 2)</text>\n",
       "</g>\n",
       "<!-- 140175854990168&#45;&gt;140175854993136 -->\n",
       "<g class=\"edge\" id=\"edge9\">\n",
       "<title>140175854990168-&gt;140175854993136</title>\n",
       "<path d=\"M504.1267,-415.4536C541.5042,-406.1117 575.1263,-393.9488 586.5,-379 621.4849,-333.0182 614.485,-299.5481 586.5,-249 579.6735,-236.6696 569.1065,-226.5538 557.4616,-218.3865\" fill=\"none\" stroke=\"#000000\"/>\n",
       "<polygon fill=\"#000000\" points=\"559.1226,-215.2919 548.8299,-212.7799 555.3096,-221.1623 559.1226,-215.2919\" stroke=\"#000000\"/>\n",
       "</g>\n",
       "<!-- 140175854990000 -->\n",
       "<g class=\"node\" id=\"node8\">\n",
       "<title>140175854990000</title>\n",
       "<polygon fill=\"none\" points=\"179,-249.5 179,-295.5 578,-295.5 578,-249.5 179,-249.5\" stroke=\"#000000\"/>\n",
       "<text fill=\"#000000\" font-family=\"Times,serif\" font-size=\"14.00\" text-anchor=\"middle\" x=\"259.5\" y=\"-268.8\">sigma_eps: Multiply</text>\n",
       "<polyline fill=\"none\" points=\"340,-249.5 340,-295.5 \" stroke=\"#000000\"/>\n",
       "<text fill=\"#000000\" font-family=\"Times,serif\" font-size=\"14.00\" text-anchor=\"middle\" x=\"374\" y=\"-280.3\">input:</text>\n",
       "<polyline fill=\"none\" points=\"340,-272.5 408,-272.5 \" stroke=\"#000000\"/>\n",
       "<text fill=\"#000000\" font-family=\"Times,serif\" font-size=\"14.00\" text-anchor=\"middle\" x=\"374\" y=\"-257.3\">output:</text>\n",
       "<polyline fill=\"none\" points=\"408,-249.5 408,-295.5 \" stroke=\"#000000\"/>\n",
       "<text fill=\"#000000\" font-family=\"Times,serif\" font-size=\"14.00\" text-anchor=\"middle\" x=\"493\" y=\"-280.3\">[(None, 2), (None, 2)]</text>\n",
       "<polyline fill=\"none\" points=\"408,-272.5 578,-272.5 \" stroke=\"#000000\"/>\n",
       "<text fill=\"#000000\" font-family=\"Times,serif\" font-size=\"14.00\" text-anchor=\"middle\" x=\"493\" y=\"-257.3\">(None, 2)</text>\n",
       "</g>\n",
       "<!-- 140176957339800&#45;&gt;140175854990000 -->\n",
       "<g class=\"edge\" id=\"edge7\">\n",
       "<title>140176957339800-&gt;140175854990000</title>\n",
       "<path d=\"M205.0347,-332.4901C235.2072,-322.0554 271.0482,-309.6604 302.2969,-298.8536\" fill=\"none\" stroke=\"#000000\"/>\n",
       "<polygon fill=\"#000000\" points=\"303.5291,-302.1309 311.8359,-295.5547 301.2411,-295.5154 303.5291,-302.1309\" stroke=\"#000000\"/>\n",
       "</g>\n",
       "<!-- 140175854990224 -->\n",
       "<g class=\"node\" id=\"node7\">\n",
       "<title>140175854990224</title>\n",
       "<polygon fill=\"none\" points=\"295.5,-332.5 295.5,-378.5 577.5,-378.5 577.5,-332.5 295.5,-332.5\" stroke=\"#000000\"/>\n",
       "<text fill=\"#000000\" font-family=\"Times,serif\" font-size=\"14.00\" text-anchor=\"middle\" x=\"361\" y=\"-351.8\">eps: InputLayer</text>\n",
       "<polyline fill=\"none\" points=\"426.5,-332.5 426.5,-378.5 \" stroke=\"#000000\"/>\n",
       "<text fill=\"#000000\" font-family=\"Times,serif\" font-size=\"14.00\" text-anchor=\"middle\" x=\"460.5\" y=\"-363.3\">input:</text>\n",
       "<polyline fill=\"none\" points=\"426.5,-355.5 494.5,-355.5 \" stroke=\"#000000\"/>\n",
       "<text fill=\"#000000\" font-family=\"Times,serif\" font-size=\"14.00\" text-anchor=\"middle\" x=\"460.5\" y=\"-340.3\">output:</text>\n",
       "<polyline fill=\"none\" points=\"494.5,-332.5 494.5,-378.5 \" stroke=\"#000000\"/>\n",
       "<text fill=\"#000000\" font-family=\"Times,serif\" font-size=\"14.00\" text-anchor=\"middle\" x=\"536\" y=\"-363.3\">(None, 2)</text>\n",
       "<polyline fill=\"none\" points=\"494.5,-355.5 577.5,-355.5 \" stroke=\"#000000\"/>\n",
       "<text fill=\"#000000\" font-family=\"Times,serif\" font-size=\"14.00\" text-anchor=\"middle\" x=\"536\" y=\"-340.3\">(None, 2)</text>\n",
       "</g>\n",
       "<!-- 140175854990224&#45;&gt;140175854990000 -->\n",
       "<g class=\"edge\" id=\"edge8\">\n",
       "<title>140175854990224-&gt;140175854990000</title>\n",
       "<path d=\"M420.3438,-332.3799C414.236,-323.6394 407.1756,-313.5358 400.6144,-304.1465\" fill=\"none\" stroke=\"#000000\"/>\n",
       "<polygon fill=\"#000000\" points=\"403.3677,-301.9762 394.7708,-295.784 397.6298,-305.9858 403.3677,-301.9762\" stroke=\"#000000\"/>\n",
       "</g>\n",
       "<!-- 140175854990000&#45;&gt;140175854993136 -->\n",
       "<g class=\"edge\" id=\"edge10\">\n",
       "<title>140175854990000-&gt;140175854993136</title>\n",
       "<path d=\"M409.9768,-249.3799C422.8479,-239.9259 437.8901,-228.8772 451.5246,-218.8625\" fill=\"none\" stroke=\"#000000\"/>\n",
       "<polygon fill=\"#000000\" points=\"453.8125,-221.5247 459.8001,-212.784 449.6686,-215.883 453.8125,-221.5247\" stroke=\"#000000\"/>\n",
       "</g>\n",
       "<!-- 140175847490392 -->\n",
       "<g class=\"node\" id=\"node10\">\n",
       "<title>140175847490392</title>\n",
       "<polygon fill=\"none\" points=\"315,-83.5 315,-129.5 668,-129.5 668,-83.5 315,-83.5\" stroke=\"#000000\"/>\n",
       "<text fill=\"#000000\" font-family=\"Times,serif\" font-size=\"14.00\" text-anchor=\"middle\" x=\"407\" y=\"-102.8\">decoder_hidden: Dense</text>\n",
       "<polyline fill=\"none\" points=\"499,-83.5 499,-129.5 \" stroke=\"#000000\"/>\n",
       "<text fill=\"#000000\" font-family=\"Times,serif\" font-size=\"14.00\" text-anchor=\"middle\" x=\"533\" y=\"-114.3\">input:</text>\n",
       "<polyline fill=\"none\" points=\"499,-106.5 567,-106.5 \" stroke=\"#000000\"/>\n",
       "<text fill=\"#000000\" font-family=\"Times,serif\" font-size=\"14.00\" text-anchor=\"middle\" x=\"533\" y=\"-91.3\">output:</text>\n",
       "<polyline fill=\"none\" points=\"567,-83.5 567,-129.5 \" stroke=\"#000000\"/>\n",
       "<text fill=\"#000000\" font-family=\"Times,serif\" font-size=\"14.00\" text-anchor=\"middle\" x=\"617.5\" y=\"-114.3\">(None, 2)</text>\n",
       "<polyline fill=\"none\" points=\"567,-106.5 668,-106.5 \" stroke=\"#000000\"/>\n",
       "<text fill=\"#000000\" font-family=\"Times,serif\" font-size=\"14.00\" text-anchor=\"middle\" x=\"617.5\" y=\"-91.3\">(None, 256)</text>\n",
       "</g>\n",
       "<!-- 140175854993136&#45;&gt;140175847490392 -->\n",
       "<g class=\"edge\" id=\"edge11\">\n",
       "<title>140175854993136-&gt;140175847490392</title>\n",
       "<path d=\"M491.5,-166.3799C491.5,-158.1745 491.5,-148.7679 491.5,-139.8786\" fill=\"none\" stroke=\"#000000\"/>\n",
       "<polygon fill=\"#000000\" points=\"495.0001,-139.784 491.5,-129.784 488.0001,-139.784 495.0001,-139.784\" stroke=\"#000000\"/>\n",
       "</g>\n",
       "<!-- 140175853700600 -->\n",
       "<g class=\"node\" id=\"node11\">\n",
       "<title>140175853700600</title>\n",
       "<polygon fill=\"none\" points=\"344.5,-.5 344.5,-46.5 638.5,-46.5 638.5,-.5 344.5,-.5\" stroke=\"#000000\"/>\n",
       "<text fill=\"#000000\" font-family=\"Times,serif\" font-size=\"14.00\" text-anchor=\"middle\" x=\"407\" y=\"-19.8\">x_mean: Dense</text>\n",
       "<polyline fill=\"none\" points=\"469.5,-.5 469.5,-46.5 \" stroke=\"#000000\"/>\n",
       "<text fill=\"#000000\" font-family=\"Times,serif\" font-size=\"14.00\" text-anchor=\"middle\" x=\"503.5\" y=\"-31.3\">input:</text>\n",
       "<polyline fill=\"none\" points=\"469.5,-23.5 537.5,-23.5 \" stroke=\"#000000\"/>\n",
       "<text fill=\"#000000\" font-family=\"Times,serif\" font-size=\"14.00\" text-anchor=\"middle\" x=\"503.5\" y=\"-8.3\">output:</text>\n",
       "<polyline fill=\"none\" points=\"537.5,-.5 537.5,-46.5 \" stroke=\"#000000\"/>\n",
       "<text fill=\"#000000\" font-family=\"Times,serif\" font-size=\"14.00\" text-anchor=\"middle\" x=\"588\" y=\"-31.3\">(None, 256)</text>\n",
       "<polyline fill=\"none\" points=\"537.5,-23.5 638.5,-23.5 \" stroke=\"#000000\"/>\n",
       "<text fill=\"#000000\" font-family=\"Times,serif\" font-size=\"14.00\" text-anchor=\"middle\" x=\"588\" y=\"-8.3\">(None, 784)</text>\n",
       "</g>\n",
       "<!-- 140175847490392&#45;&gt;140175853700600 -->\n",
       "<g class=\"edge\" id=\"edge12\">\n",
       "<title>140175847490392-&gt;140175853700600</title>\n",
       "<path d=\"M491.5,-83.3799C491.5,-75.1745 491.5,-65.7679 491.5,-56.8786\" fill=\"none\" stroke=\"#000000\"/>\n",
       "<polygon fill=\"#000000\" points=\"495.0001,-56.784 491.5,-46.784 488.0001,-56.784 495.0001,-56.784\" stroke=\"#000000\"/>\n",
       "</g>\n",
       "</g>\n",
       "</svg>"
      ],
      "text/plain": [
       "<IPython.core.display.SVG object>"
      ]
     },
     "execution_count": 68,
     "metadata": {},
     "output_type": "execute_result"
    }
   ],
   "source": [
    "SVG(model_to_dot(vae, show_shapes=True)\n",
    "    .create(prog='dot', format='svg'))"
   ]
  },
  {
   "cell_type": "code",
   "execution_count": 69,
   "metadata": {},
   "outputs": [],
   "source": [
    "plot_model(\n",
    "    model=vae, show_shapes=False,\n",
    "    to_file='../../images/vae/vae_full.svg'\n",
    ")"
   ]
  },
  {
   "cell_type": "code",
   "execution_count": 70,
   "metadata": {},
   "outputs": [],
   "source": [
    "plot_model(\n",
    "    model=vae, show_shapes=True,\n",
    "    to_file='../../images/vae/vae_full_shapes.svg'\n",
    ")"
   ]
  },
  {
   "cell_type": "code",
   "execution_count": 72,
   "metadata": {},
   "outputs": [],
   "source": [
    "(x_train, y_train), (x_test, y_test) = mnist.load_data()\n",
    "x_train = x_train.reshape(-1, original_dim) / 255.\n",
    "x_test = x_test.reshape(-1, original_dim) / 255."
   ]
  }
 ],
 "metadata": {
  "kernelspec": {
   "display_name": "Python 3",
   "language": "python",
   "name": "python3"
  },
  "language_info": {
   "codemirror_mode": {
    "name": "ipython",
    "version": 3
   },
   "file_extension": ".py",
   "mimetype": "text/x-python",
   "name": "python",
   "nbconvert_exporter": "python",
   "pygments_lexer": "ipython3",
   "version": "3.6.3"
  },
  "nikola": {
   "category": "",
   "date": "2017-07-21 18:38:07 UTC+10:00",
   "description": "",
   "link": "",
   "slug": "variational-inference-with-implicit-approximate-inference-models-wip-pt-8",
   "tags": "",
   "title": "Variational Inference with Implicit Approximate Inference Models (WIP Pt. 8)",
   "type": "text"
  }
 },
 "nbformat": 4,
 "nbformat_minor": 2
}
